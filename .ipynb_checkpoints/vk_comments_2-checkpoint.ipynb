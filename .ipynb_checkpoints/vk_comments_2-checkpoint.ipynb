{
 "cells": [
  {
   "cell_type": "code",
   "execution_count": 1,
   "id": "ce6b06b6-17d2-44f3-b0e4-37989dadcf9d",
   "metadata": {},
   "outputs": [],
   "source": [
    "import re\n",
    "import numpy as np\n",
    "import pandas as pd\n",
    "import matplotlib.pyplot as plt\n",
    "import seaborn as sns\n",
    "\n",
    "import nltk\n",
    "import spacy\n",
    "from nltk.corpus import stopwords\n",
    "\n",
    "from tqdm import tqdm\n",
    "\n",
    "from sklearn.feature_extraction.text import TfidfVectorizer\n",
    "from sklearn.pipeline import Pipeline\n",
    "from sklearn.compose import ColumnTransformer\n",
    "from sklearn.model_selection import train_test_split, cross_val_score, GridSearchCV\n",
    "from sklearn.metrics import f1_score, precision_score, recall_score\n",
    "from sklearn.metrics import precision_recall_curve, PrecisionRecallDisplay\n",
    "from sklearn.metrics import roc_curve, RocCurveDisplay, auc\n",
    "\n",
    "from sklearn.linear_model import LogisticRegression\n",
    "from catboost import CatBoostClassifier\n",
    "from sklearn.svm import LinearSVC\n",
    "from sklearn.naive_bayes import MultinomialNB, ComplementNB\n",
    "from sklearn.linear_model import RidgeClassifier\n",
    "\n",
    "import warnings\n",
    "warnings.filterwarnings('ignore')"
   ]
  },
  {
   "cell_type": "code",
   "execution_count": 2,
   "id": "4577bce6-16de-4c7d-ad44-cb7fbfeac1ff",
   "metadata": {},
   "outputs": [
    {
     "data": {
      "text/html": [
       "<div>\n",
       "<style scoped>\n",
       "    .dataframe tbody tr th:only-of-type {\n",
       "        vertical-align: middle;\n",
       "    }\n",
       "\n",
       "    .dataframe tbody tr th {\n",
       "        vertical-align: top;\n",
       "    }\n",
       "\n",
       "    .dataframe thead th {\n",
       "        text-align: right;\n",
       "    }\n",
       "</style>\n",
       "<table border=\"1\" class=\"dataframe\">\n",
       "  <thead>\n",
       "    <tr style=\"text-align: right;\">\n",
       "      <th></th>\n",
       "      <th>text</th>\n",
       "      <th>label</th>\n",
       "    </tr>\n",
       "  </thead>\n",
       "  <tbody>\n",
       "    <tr>\n",
       "      <th>0</th>\n",
       "      <td>.... ведь одна из этих дорог ведёт в ваше серд...</td>\n",
       "      <td>neutral</td>\n",
       "    </tr>\n",
       "    <tr>\n",
       "      <th>1</th>\n",
       "      <td>…лучше в ВК, я редко захожу…</td>\n",
       "      <td>neutral</td>\n",
       "    </tr>\n",
       "    <tr>\n",
       "      <th>2</th>\n",
       "      <td>\"- Мама, купи Seti! - У нас есть Сети дома. Се...</td>\n",
       "      <td>neutral</td>\n",
       "    </tr>\n",
       "    <tr>\n",
       "      <th>3</th>\n",
       "      <td>\"— Знаешь, откуда эти шрамы?©\"</td>\n",
       "      <td>neutral</td>\n",
       "    </tr>\n",
       "    <tr>\n",
       "      <th>4</th>\n",
       "      <td>\"\"\" Kinfire — к сожалению, сдвигается на февра...</td>\n",
       "      <td>negative</td>\n",
       "    </tr>\n",
       "    <tr>\n",
       "      <th>...</th>\n",
       "      <td>...</td>\n",
       "      <td>...</td>\n",
       "    </tr>\n",
       "    <tr>\n",
       "      <th>2216</th>\n",
       "      <td>Я удалила приложение вайлдберриз после несколь...</td>\n",
       "      <td>negative</td>\n",
       "    </tr>\n",
       "    <tr>\n",
       "      <th>2217</th>\n",
       "      <td>Я уж думал не дождёмся! 😱</td>\n",
       "      <td>negative</td>\n",
       "    </tr>\n",
       "    <tr>\n",
       "      <th>2218</th>\n",
       "      <td>Я что-то пропустил, а коробки Ascension Tactic...</td>\n",
       "      <td>neutral</td>\n",
       "    </tr>\n",
       "    <tr>\n",
       "      <th>2219</th>\n",
       "      <td>я чуть себе усложнил)</td>\n",
       "      <td>neutral</td>\n",
       "    </tr>\n",
       "    <tr>\n",
       "      <th>2220</th>\n",
       "      <td>Явно видно, что боссов мало. Есть ли информаци...</td>\n",
       "      <td>neutral</td>\n",
       "    </tr>\n",
       "  </tbody>\n",
       "</table>\n",
       "<p>2221 rows × 2 columns</p>\n",
       "</div>"
      ],
      "text/plain": [
       "                                                   text     label\n",
       "0     .... ведь одна из этих дорог ведёт в ваше серд...   neutral\n",
       "1                          …лучше в ВК, я редко захожу…   neutral\n",
       "2     \"- Мама, купи Seti! - У нас есть Сети дома. Се...   neutral\n",
       "3                        \"— Знаешь, откуда эти шрамы?©\"   neutral\n",
       "4     \"\"\" Kinfire — к сожалению, сдвигается на февра...  negative\n",
       "...                                                 ...       ...\n",
       "2216  Я удалила приложение вайлдберриз после несколь...  negative\n",
       "2217                          Я уж думал не дождёмся! 😱  negative\n",
       "2218  Я что-то пропустил, а коробки Ascension Tactic...   neutral\n",
       "2219                              я чуть себе усложнил)   neutral\n",
       "2220  Явно видно, что боссов мало. Есть ли информаци...   neutral\n",
       "\n",
       "[2221 rows x 2 columns]"
      ]
     },
     "execution_count": 2,
     "metadata": {},
     "output_type": "execute_result"
    }
   ],
   "source": [
    "data = pd.read_csv('/Users/lena/vk comments/vk_comments_data.csv')\n",
    "data"
   ]
  },
  {
   "cell_type": "code",
   "execution_count": 3,
   "id": "edc085a9-b6e3-46a5-b94d-600700de6cb3",
   "metadata": {},
   "outputs": [
    {
     "name": "stdout",
     "output_type": "stream",
     "text": [
      "<class 'pandas.core.frame.DataFrame'>\n",
      "RangeIndex: 2221 entries, 0 to 2220\n",
      "Data columns (total 2 columns):\n",
      " #   Column  Non-Null Count  Dtype \n",
      "---  ------  --------------  ----- \n",
      " 0   text    2221 non-null   object\n",
      " 1   label   2221 non-null   object\n",
      "dtypes: object(2)\n",
      "memory usage: 34.8+ KB\n"
     ]
    }
   ],
   "source": [
    "data.info()"
   ]
  },
  {
   "cell_type": "code",
   "execution_count": 4,
   "id": "8a115eb6-0e91-45b2-97ba-eddd4883fe53",
   "metadata": {},
   "outputs": [
    {
     "data": {
      "text/plain": [
       "np.int64(10)"
      ]
     },
     "execution_count": 4,
     "metadata": {},
     "output_type": "execute_result"
    }
   ],
   "source": [
    "data.duplicated().sum()"
   ]
  },
  {
   "cell_type": "code",
   "execution_count": 5,
   "id": "2aedfb86-e2e9-4094-bb50-2828a331abb9",
   "metadata": {},
   "outputs": [],
   "source": [
    "# Удалим явные дубли\n",
    "data = data.drop_duplicates()"
   ]
  },
  {
   "cell_type": "code",
   "execution_count": 6,
   "id": "5c1b527a-2a25-4c55-8f7a-5200d659624d",
   "metadata": {},
   "outputs": [
    {
     "data": {
      "text/plain": [
       "<Axes: xlabel='label', ylabel='count'>"
      ]
     },
     "execution_count": 6,
     "metadata": {},
     "output_type": "execute_result"
    },
    {
     "data": {
      "image/png": "[encoded data removed]",
      "text/plain": [
       "<Figure size 640x480 with 1 Axes>"
      ]
     },
     "metadata": {},
     "output_type": "display_data"
    }
   ],
   "source": [
    "sns.countplot(data=data, x = 'label')"
   ]
  },
  {
   "cell_type": "code",
   "execution_count": 7,
   "id": "0e91201b-a300-4d01-b103-0df9d0d133d1",
   "metadata": {},
   "outputs": [
    {
     "data": {
      "text/plain": [
       "label\n",
       "neutral     1479\n",
       "positive     426\n",
       "negative     306\n",
       "Name: count, dtype: int64"
      ]
     },
     "execution_count": 7,
     "metadata": {},
     "output_type": "execute_result"
    }
   ],
   "source": [
    "data['label'].value_counts()"
   ]
  },
  {
   "cell_type": "code",
   "execution_count": 8,
   "id": "206e204e-1b3b-406b-8e22-cf8c0c238476",
   "metadata": {},
   "outputs": [
    {
     "name": "stderr",
     "output_type": "stream",
     "text": [
      "[nltk_data] Downloading package stopwords to /Users/lena/nltk_data...\n",
      "[nltk_data]   Package stopwords is already up-to-date!\n"
     ]
    }
   ],
   "source": [
    "# 1. Скачиваем стоп-слова для русского\n",
    "nltk.download(\"stopwords\")\n",
    "russian_stopwords = set(stopwords.words(\"russian\"))\n",
    "\n",
    "# 2. Загружаем русскую модель spaCy\n",
    "nlp = spacy.load(\"ru_core_news_sm\", disable=[\"parser\", \"ner\"])"
   ]
  },
  {
   "cell_type": "code",
   "execution_count": 9,
   "id": "f2d6ca8d-4407-4295-a4ea-e7ecb51ae713",
   "metadata": {},
   "outputs": [],
   "source": [
    "# Очистка текста\n",
    "def clean_text(text):\n",
    "    text = text.lower()  # Приведение к нижнему регистру\n",
    "    text = re.sub(r\"[^а-яёa-z0-9\\s]\", \" \", text)  # Удаление всех символов, кроме букв\n",
    "    return text"
   ]
  },
  {
   "cell_type": "code",
   "execution_count": 10,
   "id": "28589ae6-2e7e-4065-8fa5-452cf341549c",
   "metadata": {},
   "outputs": [
    {
     "name": "stdout",
     "output_type": "stream",
     "text": [
      "Гага, а можете посмотреть на The Voynich Puzzle? → гага мочь посмотреть\n",
      "Игра отличная, спасибо большое! → игра отличный спасибо большой\n",
      "А рассрочка где? → рассрочка где\n",
      "Цены грабительские! → цена грабительский\n",
      "Быстро доставили, всё понравилось 👍 → быстро доставить понравиться\n"
     ]
    }
   ],
   "source": [
    "# Лемматизация с учетом частей речи (для русского)\n",
    "def lemmatize_with_pos(text):\n",
    "    doc = nlp(text.lower())\n",
    "    lemmatized_text = []\n",
    "    for token in doc:\n",
    "        if token.pos_ in [\"NOUN\", \"VERB\", \"ADJ\", \"ADV\"]:  \n",
    "            lemmatized_text.append(token.lemma_)\n",
    "    return \" \".join(lemmatized_text)\n",
    "\n",
    "\n",
    "# Пример\n",
    "examples = [\n",
    "    \"Гага, а можете посмотреть на The Voynich Puzzle?\",\n",
    "    \"Игра отличная, спасибо большое!\",\n",
    "    \"А рассрочка где?\",\n",
    "    \"Цены грабительские!\",\n",
    "    \"Быстро доставили, всё понравилось 👍\"\n",
    "]\n",
    "\n",
    "for ex in examples:\n",
    "    print(ex, \"→\", lemmatize_with_pos(ex))"
   ]
  },
  {
   "cell_type": "code",
   "execution_count": 11,
   "id": "0adbea26-02fa-4b48-8741-69dabbbe2f23",
   "metadata": {},
   "outputs": [],
   "source": [
    "# --- Удаление стоп-слов ---\n",
    "def remove_stopwords(text):\n",
    "    return \" \".join([word for word in text.split() if word not in russian_stopwords])"
   ]
  },
  {
   "cell_type": "code",
   "execution_count": 12,
   "id": "5ab07cae-6761-4eef-81e4-ac058d5b986e",
   "metadata": {},
   "outputs": [
    {
     "name": "stdout",
     "output_type": "stream",
     "text": [
      "Гага, а можете посмотреть на The Voynich Puzzle? → гага мочь посмотреть\n",
      "Игра отличная, спасибо большое! → игра отличный спасибо большой\n",
      "А рассрочка где? → рассрочка\n",
      "Цены грабительские! → цена грабительский\n",
      "Быстро доставили, всё понравилось 👍 → быстро доставить понравиться\n"
     ]
    }
   ],
   "source": [
    "# --- Финальная функция предобработки ---\n",
    "def preprocess_text(text, remove_stops=True):\n",
    "    cleaned_text = clean_text(text)\n",
    "    lemmatized_text = lemmatize_with_pos(cleaned_text)\n",
    "    if remove_stops:\n",
    "        final_text = remove_stopwords(lemmatized_text)\n",
    "    else:\n",
    "        final_text = lemmatized_text\n",
    "    return final_text\n",
    "\n",
    "\n",
    "# Пример\n",
    "examples = [\n",
    "    \"Гага, а можете посмотреть на The Voynich Puzzle?\",\n",
    "    \"Игра отличная, спасибо большое!\",\n",
    "    \"А рассрочка где?\",\n",
    "    \"Цены грабительские!\",\n",
    "    \"Быстро доставили, всё понравилось 👍\"\n",
    "]\n",
    "\n",
    "for ex in examples:\n",
    "    print(ex, \"→\", preprocess_text(ex))"
   ]
  },
  {
   "cell_type": "code",
   "execution_count": 13,
   "id": "d68db78f-89e4-4930-90cd-da11c2593428",
   "metadata": {},
   "outputs": [
    {
     "name": "stderr",
     "output_type": "stream",
     "text": [
      "100%|██████████████████████████████████████| 2211/2211 [00:12<00:00, 174.93it/s]\n"
     ]
    }
   ],
   "source": [
    "# Подключаем прогресс-бар\n",
    "tqdm.pandas()\n",
    "\n",
    "# Применяем функцию предобработки к каждому тексту\n",
    "data['text'] = data['text'].progress_apply(preprocess_text)"
   ]
  },
  {
   "cell_type": "code",
   "execution_count": 14,
   "id": "080cb492-2237-49c1-a242-a904ebff8298",
   "metadata": {},
   "outputs": [
    {
     "data": {
      "text/html": [
       "<div>\n",
       "<style scoped>\n",
       "    .dataframe tbody tr th:only-of-type {\n",
       "        vertical-align: middle;\n",
       "    }\n",
       "\n",
       "    .dataframe tbody tr th {\n",
       "        vertical-align: top;\n",
       "    }\n",
       "\n",
       "    .dataframe thead th {\n",
       "        text-align: right;\n",
       "    }\n",
       "</style>\n",
       "<table border=\"1\" class=\"dataframe\">\n",
       "  <thead>\n",
       "    <tr style=\"text-align: right;\">\n",
       "      <th></th>\n",
       "      <th>text</th>\n",
       "      <th>label</th>\n",
       "    </tr>\n",
       "  </thead>\n",
       "  <tbody>\n",
       "    <tr>\n",
       "      <th>0</th>\n",
       "      <td>дорога ведёт сердечко</td>\n",
       "      <td>neutral</td>\n",
       "    </tr>\n",
       "    <tr>\n",
       "      <th>1</th>\n",
       "      <td>хороший редко заходить</td>\n",
       "      <td>neutral</td>\n",
       "    </tr>\n",
       "    <tr>\n",
       "      <th>2</th>\n",
       "      <td>мама купи сеть дом сеть дом</td>\n",
       "      <td>neutral</td>\n",
       "    </tr>\n",
       "    <tr>\n",
       "      <th>3</th>\n",
       "      <td>знать откуда шрамы</td>\n",
       "      <td>neutral</td>\n",
       "    </tr>\n",
       "    <tr>\n",
       "      <th>4</th>\n",
       "      <td>сожаление сдвигаться февраль очень плохо спасибо</td>\n",
       "      <td>negative</td>\n",
       "    </tr>\n",
       "  </tbody>\n",
       "</table>\n",
       "</div>"
      ],
      "text/plain": [
       "                                               text     label\n",
       "0                             дорога ведёт сердечко   neutral\n",
       "1                            хороший редко заходить   neutral\n",
       "2                       мама купи сеть дом сеть дом   neutral\n",
       "3                                знать откуда шрамы   neutral\n",
       "4  сожаление сдвигаться февраль очень плохо спасибо  negative"
      ]
     },
     "execution_count": 14,
     "metadata": {},
     "output_type": "execute_result"
    }
   ],
   "source": [
    "data.head()"
   ]
  },
  {
   "cell_type": "code",
   "execution_count": 15,
   "id": "5b2e62b4-7a99-45e1-8bb5-6c20fde58f4f",
   "metadata": {},
   "outputs": [
    {
     "data": {
      "text/plain": [
       "np.int64(144)"
      ]
     },
     "execution_count": 15,
     "metadata": {},
     "output_type": "execute_result"
    }
   ],
   "source": [
    "data.duplicated().sum()"
   ]
  },
  {
   "cell_type": "code",
   "execution_count": 16,
   "id": "efddf65e-638d-4762-b00b-47d18e5877f5",
   "metadata": {},
   "outputs": [],
   "source": [
    "# Удалим явные дубли\n",
    "data = data.drop_duplicates()"
   ]
  },
  {
   "cell_type": "code",
   "execution_count": 17,
   "id": "f513f019-ed23-4936-9bd5-61a95775e2f3",
   "metadata": {},
   "outputs": [
    {
     "name": "stdout",
     "output_type": "stream",
     "text": [
      "<class 'pandas.core.frame.DataFrame'>\n",
      "Index: 2067 entries, 0 to 2220\n",
      "Data columns (total 2 columns):\n",
      " #   Column  Non-Null Count  Dtype \n",
      "---  ------  --------------  ----- \n",
      " 0   text    2067 non-null   object\n",
      " 1   label   2067 non-null   object\n",
      "dtypes: object(2)\n",
      "memory usage: 48.4+ KB\n"
     ]
    }
   ],
   "source": [
    "data.info()"
   ]
  },
  {
   "cell_type": "code",
   "execution_count": 18,
   "id": "d33a1614-cc7d-4aa0-9b33-bc95c7700b1c",
   "metadata": {},
   "outputs": [],
   "source": [
    "X = data.drop('label', axis=1)\n",
    "y = data['label']"
   ]
  },
  {
   "cell_type": "code",
   "execution_count": 19,
   "id": "a3e49fdb-d88e-4250-8cf4-5960c7dcadfb",
   "metadata": {},
   "outputs": [
    {
     "name": "stdout",
     "output_type": "stream",
     "text": [
      "(1653, 1) (414, 1) (1653,) (414,)\n"
     ]
    }
   ],
   "source": [
    "# Разделим данные на обучающую и тестовую выборки с сохранением баланса классов\n",
    "X_train, X_test, y_train, y_test = train_test_split(\n",
    "    X, y, \n",
    "    test_size=0.2, \n",
    "    random_state=0,\n",
    "    stratify=y  # сохраняем соотношение классов\n",
    ")\n",
    "\n",
    "print(X_train.shape, X_test.shape, y_train.shape, y_test.shape)"
   ]
  },
  {
   "cell_type": "code",
   "execution_count": 20,
   "id": "3eeb1a02-18ed-4a8b-8291-34c4bc5e501d",
   "metadata": {},
   "outputs": [
    {
     "name": "stdout",
     "output_type": "stream",
     "text": [
      "TF-IDF признаки для обучающего набора данных: (1653, 2974)\n",
      "TF-IDF признаки для тестового набора данных: (414, 2974)\n"
     ]
    }
   ],
   "source": [
    "# Создадим экземпляр TfidfVectorizer\n",
    "tfidf_vectorizer = TfidfVectorizer()\n",
    "\n",
    "# Преобразуем текстовые данные в TF-IDF признаки\n",
    "X_train_tfidf = tfidf_vectorizer.fit_transform(X_train['text'])\n",
    "X_test_tfidf = tfidf_vectorizer.transform(X_test['text'])\n",
    "\n",
    "print(\"TF-IDF признаки для обучающего набора данных:\", X_train_tfidf.shape)\n",
    "print(\"TF-IDF признаки для тестового набора данных:\", X_test_tfidf.shape)"
   ]
  },
  {
   "cell_type": "code",
   "execution_count": 21,
   "id": "7b018aaa-f076-4f93-95e3-056e460065ac",
   "metadata": {},
   "outputs": [],
   "source": [
    "# Список для сбора результатов\n",
    "results = []"
   ]
  },
  {
   "cell_type": "code",
   "execution_count": 30,
   "id": "33d6ad76-9e6f-4c75-b939-0cfb36a4e971",
   "metadata": {},
   "outputs": [
    {
     "name": "stderr",
     "output_type": "stream",
     "text": [
      "/Users/lena/opt/anaconda3/anaconda3/lib/python3.13/site-packages/sklearn/svm/_base.py:1249: ConvergenceWarning: Liblinear failed to converge, increase the number of iterations.\n",
      "  warnings.warn(\n",
      "/Users/lena/opt/anaconda3/anaconda3/lib/python3.13/site-packages/sklearn/svm/_base.py:1249: ConvergenceWarning: Liblinear failed to converge, increase the number of iterations.\n",
      "  warnings.warn(\n",
      "/Users/lena/opt/anaconda3/anaconda3/lib/python3.13/site-packages/sklearn/svm/_base.py:1249: ConvergenceWarning: Liblinear failed to converge, increase the number of iterations.\n",
      "  warnings.warn(\n",
      "/Users/lena/opt/anaconda3/anaconda3/lib/python3.13/site-packages/sklearn/svm/_base.py:1249: ConvergenceWarning: Liblinear failed to converge, increase the number of iterations.\n",
      "  warnings.warn(\n",
      "/Users/lena/opt/anaconda3/anaconda3/lib/python3.13/site-packages/sklearn/svm/_base.py:1249: ConvergenceWarning: Liblinear failed to converge, increase the number of iterations.\n",
      "  warnings.warn(\n",
      "/Users/lena/opt/anaconda3/anaconda3/lib/python3.13/site-packages/sklearn/svm/_base.py:1249: ConvergenceWarning: Liblinear failed to converge, increase the number of iterations.\n",
      "  warnings.warn(\n",
      "/Users/lena/opt/anaconda3/anaconda3/lib/python3.13/site-packages/sklearn/svm/_base.py:1249: ConvergenceWarning: Liblinear failed to converge, increase the number of iterations.\n",
      "  warnings.warn(\n",
      "/Users/lena/opt/anaconda3/anaconda3/lib/python3.13/site-packages/sklearn/svm/_base.py:1249: ConvergenceWarning: Liblinear failed to converge, increase the number of iterations.\n",
      "  warnings.warn(\n",
      "/Users/lena/opt/anaconda3/anaconda3/lib/python3.13/site-packages/sklearn/svm/_base.py:1249: ConvergenceWarning: Liblinear failed to converge, increase the number of iterations.\n",
      "  warnings.warn(\n",
      "/Users/lena/opt/anaconda3/anaconda3/lib/python3.13/site-packages/sklearn/svm/_base.py:1249: ConvergenceWarning: Liblinear failed to converge, increase the number of iterations.\n",
      "  warnings.warn(\n",
      "/Users/lena/opt/anaconda3/anaconda3/lib/python3.13/site-packages/sklearn/svm/_base.py:1249: ConvergenceWarning: Liblinear failed to converge, increase the number of iterations.\n",
      "  warnings.warn(\n",
      "/Users/lena/opt/anaconda3/anaconda3/lib/python3.13/site-packages/sklearn/svm/_base.py:1249: ConvergenceWarning: Liblinear failed to converge, increase the number of iterations.\n",
      "  warnings.warn(\n",
      "/Users/lena/opt/anaconda3/anaconda3/lib/python3.13/site-packages/sklearn/svm/_base.py:1249: ConvergenceWarning: Liblinear failed to converge, increase the number of iterations.\n",
      "  warnings.warn(\n",
      "/Users/lena/opt/anaconda3/anaconda3/lib/python3.13/site-packages/sklearn/svm/_base.py:1249: ConvergenceWarning: Liblinear failed to converge, increase the number of iterations.\n",
      "  warnings.warn(\n",
      "/Users/lena/opt/anaconda3/anaconda3/lib/python3.13/site-packages/sklearn/svm/_base.py:1249: ConvergenceWarning: Liblinear failed to converge, increase the number of iterations.\n",
      "  warnings.warn(\n",
      "/Users/lena/opt/anaconda3/anaconda3/lib/python3.13/site-packages/sklearn/svm/_base.py:1249: ConvergenceWarning: Liblinear failed to converge, increase the number of iterations.\n",
      "  warnings.warn(\n",
      "/Users/lena/opt/anaconda3/anaconda3/lib/python3.13/site-packages/sklearn/svm/_base.py:1249: ConvergenceWarning: Liblinear failed to converge, increase the number of iterations.\n",
      "  warnings.warn(\n",
      "/Users/lena/opt/anaconda3/anaconda3/lib/python3.13/site-packages/sklearn/svm/_base.py:1249: ConvergenceWarning: Liblinear failed to converge, increase the number of iterations.\n",
      "  warnings.warn(\n",
      "/Users/lena/opt/anaconda3/anaconda3/lib/python3.13/site-packages/sklearn/svm/_base.py:1249: ConvergenceWarning: Liblinear failed to converge, increase the number of iterations.\n",
      "  warnings.warn(\n",
      "/Users/lena/opt/anaconda3/anaconda3/lib/python3.13/site-packages/sklearn/svm/_base.py:1249: ConvergenceWarning: Liblinear failed to converge, increase the number of iterations.\n",
      "  warnings.warn(\n"
     ]
    },
    {
     "name": "stdout",
     "output_type": "stream",
     "text": [
      "Лучшие параметры: {'model__C': 1, 'model__fit_intercept': True, 'model__penalty': 'l1', 'tfidf__max_df': 0.9, 'tfidf__max_features': 5000, 'tfidf__min_df': 2, 'tfidf__ngram_range': (1, 2)}\n",
      "Лучшая оценка F1-меры: 0.725067598099453\n"
     ]
    }
   ],
   "source": [
    "# Pipeline\n",
    "pipeline = Pipeline([\n",
    "    ('tfidf', tfidf_vectorizer),  # Твой экземпляр TfidfVectorizer\n",
    "    ('model', LogisticRegression(random_state=42, \n",
    "                                 solver='liblinear', \n",
    "                                 max_iter=2000,\n",
    "                                 class_weight='balanced'))  # solver liblinear для l1/l2\n",
    "])\n",
    "\n",
    "# Параметры для GridSearchCV\n",
    "param_lr = {\n",
    "    'tfidf__ngram_range': [(1, 1), (1, 2)],       # униграммы или униграммы+биграммы\n",
    "    'tfidf__min_df': [2, 5],                       # игнорируем редкие слова\n",
    "    'tfidf__max_df': [0.9, 0.95],                  # игнорируем слишком частые слова\n",
    "    'tfidf__max_features': [5000, 6000],          # ограничение признаков\n",
    "    'model__penalty': ['l1', 'l2'],               # l1/l2 регуляризация\n",
    "    'model__C': [0.01, 0.1, 1, 10],               # сила регуляризации\n",
    "    'model__fit_intercept': [True]                # оставляем True\n",
    "}\n",
    "\n",
    "# GridSearchCV с f1 (для многоклассового можно добавить average='weighted')\n",
    "grid_lr = GridSearchCV(\n",
    "    pipeline,\n",
    "    param_grid=param_lr,\n",
    "    cv=5,\n",
    "    scoring='f1_weighted',  # для многоклассового случая\n",
    "    n_jobs=-1\n",
    ")\n",
    "\n",
    "# Обучение\n",
    "grid_lr.fit(X_train['text'], y_train)\n",
    "\n",
    "# Лучшие параметры и результат\n",
    "best_params_lr = grid_lr.best_params_\n",
    "best_score_lr = grid_lr.best_score_\n",
    "\n",
    "# Добавляем в список\n",
    "results.append({\n",
    "    'Model': 'LogisticRegression',\n",
    "    'Best F1-weighted': best_score_lr,\n",
    "    'Best Params': best_params_lr\n",
    "})\n",
    "\n",
    "print(f'Лучшие параметры: {best_params_lr}')\n",
    "print(f'Лучшая оценка F1-меры: {best_score_lr}')"
   ]
  },
  {
   "cell_type": "code",
   "execution_count": 32,
   "id": "03a30d72-a9fc-4090-813a-e912e71954aa",
   "metadata": {},
   "outputs": [
    {
     "name": "stdout",
     "output_type": "stream",
     "text": [
      "\n",
      "Лучшие параметры Naive Bayes: {'model_nb': MultinomialNB(), 'model_nb__alpha': 0.1, 'tfidf__ngram_range': (1, 2)}\n",
      "Лучшая оценка F1-меры: 0.6248540010759607\n"
     ]
    }
   ],
   "source": [
    "from sklearn.naive_bayes import MultinomialNB, ComplementNB\n",
    "from sklearn.utils.class_weight import compute_sample_weight\n",
    "\n",
    "# Pipeline для Naive Bayes\n",
    "pipeline_nb = Pipeline([\n",
    "    ('tfidf', tfidf_vectorizer),\n",
    "    ('model_nb', MultinomialNB())  # можно будет менять на ComplementNB через GridSearch\n",
    "])\n",
    "\n",
    "# Параметры для GridSearchCV\n",
    "param_nb = {\n",
    "    'model_nb': [MultinomialNB(), ComplementNB()],\n",
    "    'model_nb__alpha': [0.1, 0.5, 1.0],\n",
    "    'tfidf__ngram_range': [(1,1), (1,2)]\n",
    "}\n",
    "\n",
    "# GridSearchCV\n",
    "grid_nb = GridSearchCV(\n",
    "    pipeline_nb,\n",
    "    param_grid=param_nb,\n",
    "    cv=5,\n",
    "    scoring='f1_weighted',  # для многоклассового F1\n",
    "    n_jobs=-1\n",
    ")\n",
    "\n",
    "# Вычисляем веса для каждого примера (чтобы сбалансировать классы)\n",
    "sample_weights = compute_sample_weight(class_weight='balanced', y=y_train)\n",
    "\n",
    "# Обучение с sample_weight\n",
    "grid_nb.fit(X_train['text'], y_train, model_nb__sample_weight=sample_weights)\n",
    "\n",
    "# Результаты\n",
    "best_params_nb = grid_nb.best_params_\n",
    "best_score_nb = grid_nb.best_score_\n",
    "\n",
    "# Добавляем в список\n",
    "results.append({\n",
    "    'Model': 'NaiveBayes',\n",
    "    'Best F1-weighted': best_score_nb,\n",
    "    'Best Params': best_params_nb\n",
    "})\n",
    "\n",
    "print(f'\\nЛучшие параметры Naive Bayes: {best_params_nb}')\n",
    "print(f'Лучшая оценка F1-меры: {best_score_nb}')"
   ]
  },
  {
   "cell_type": "code",
   "execution_count": 33,
   "id": "d65ca277-9789-4d5f-9792-04e09f1f3fc7",
   "metadata": {},
   "outputs": [
    {
     "name": "stdout",
     "output_type": "stream",
     "text": [
      "\n",
      "Лучшие параметры LinearSVC: {'model_svc__C': 1, 'model_svc__loss': 'hinge', 'tfidf__ngram_range': (1, 2)}\n",
      "Лучшая оценка F1-меры: 0.7239454869960751\n"
     ]
    }
   ],
   "source": [
    "# Pipeline для LinearSVC\n",
    "pipeline_svc = Pipeline([\n",
    "    ('tfidf', tfidf_vectorizer),   # твой TF-IDF векторизатор\n",
    "    ('model_svc', LinearSVC(random_state=42, \n",
    "                            max_iter=5000,\n",
    "                            class_weight='balanced'))  # модель\n",
    "])\n",
    "\n",
    "# Параметры для GridSearchCV\n",
    "param_svc = {\n",
    "    'model_svc__C': [0.01, 0.1, 1, 10],        # коэффициент регуляризации\n",
    "    'model_svc__loss': ['hinge', 'squared_hinge'],  # тип функции потерь\n",
    "    'tfidf__ngram_range': [(1,1), (1,2)]       # тестируем униграммы и биграммы\n",
    "}\n",
    "\n",
    "# GridSearchCV\n",
    "grid_svc = GridSearchCV(\n",
    "    pipeline_svc,\n",
    "    param_grid=param_svc,\n",
    "    cv=5,\n",
    "    scoring='f1_weighted',   # для многоклассового F1\n",
    "    n_jobs=-1\n",
    ")\n",
    "\n",
    "# Обучение\n",
    "grid_svc.fit(X_train['text'], y_train)\n",
    "\n",
    "# Результаты\n",
    "best_params_svc = grid_svc.best_params_\n",
    "best_score_svc = grid_svc.best_score_\n",
    "\n",
    "# Добавляем в список\n",
    "results.append({\n",
    "    'Model': 'LinearSVC',\n",
    "    'Best F1-weighted': best_score_svc,\n",
    "    'Best Params': best_params_svc\n",
    "})\n",
    "\n",
    "print(f'\\nЛучшие параметры LinearSVC: {best_params_svc}')\n",
    "print(f'Лучшая оценка F1-меры: {best_score_svc}')\n"
   ]
  },
  {
   "cell_type": "code",
   "execution_count": 34,
   "id": "eae8b799-2af1-4035-8e96-fa3d905ce6e6",
   "metadata": {},
   "outputs": [
    {
     "name": "stdout",
     "output_type": "stream",
     "text": [
      "\n",
      "Лучшие параметры RidgeClassifier: {'model_ridge__alpha': 1, 'tfidf__ngram_range': (1, 2)}\n",
      "Лучшая оценка F1-меры: 0.7133841786691305\n"
     ]
    }
   ],
   "source": [
    "# Pipeline для RidgeClassifier\n",
    "pipeline_ridge = Pipeline([\n",
    "    ('tfidf', tfidf_vectorizer),\n",
    "    ('model_ridge', RidgeClassifier(random_state=42))\n",
    "])\n",
    "\n",
    "# Параметры для GridSearchCV\n",
    "param_ridge = {\n",
    "    'model_ridge__alpha': [0.1, 1, 10, 100],\n",
    "    'tfidf__ngram_range': [(1,1), (1,2)]\n",
    "}\n",
    "\n",
    "# Вычисляем веса для классов\n",
    "sample_weights = compute_sample_weight(class_weight='balanced', y=y_train)\n",
    "\n",
    "# GridSearchCV\n",
    "grid_ridge = GridSearchCV(\n",
    "    pipeline_ridge,\n",
    "    param_grid=param_ridge,\n",
    "    cv=5,\n",
    "    scoring='f1_weighted',\n",
    "    n_jobs=-1\n",
    ")\n",
    "\n",
    "# Обучение с sample_weight\n",
    "grid_ridge.fit(X_train['text'], y_train, model_ridge__sample_weight=sample_weights)\n",
    "\n",
    "# Результаты\n",
    "best_params_ridge = grid_ridge.best_params_\n",
    "best_score_ridge = grid_ridge.best_score_\n",
    "\n",
    "# Добавляем в список результатов\n",
    "results.append({\n",
    "    'Model': 'RidgeClassifier',\n",
    "    'Best F1-weighted': best_score_ridge,\n",
    "    'Best Params': best_params_ridge\n",
    "})\n",
    "\n",
    "print(f'\\nЛучшие параметры RidgeClassifier: {best_params_ridge}')\n",
    "print(f'Лучшая оценка F1-меры: {best_score_ridge}')"
   ]
  },
  {
   "cell_type": "code",
   "execution_count": 35,
   "id": "3eddaadc-1f7e-4cfb-a317-7a3b5040fcfa",
   "metadata": {},
   "outputs": [
    {
     "name": "stdout",
     "output_type": "stream",
     "text": [
      "Class weights: [2.3151260504201683, 0.5009090909090909, 1.7492063492063492]\n",
      "\n",
      "Лучшие параметры CatBoostClassifier: {'model_cb__depth': 4, 'model_cb__iterations': 200, 'model_cb__l2_leaf_reg': 1, 'model_cb__learning_rate': 0.1}\n",
      "Лучшая оценка F1-меры: 0.679651381811483\n"
     ]
    }
   ],
   "source": [
    "from sklearn.utils.class_weight import compute_class_weight\n",
    "import numpy as np\n",
    "\n",
    "# Рассчитаем веса для каждого класса\n",
    "classes = np.unique(y_train)\n",
    "class_weights = compute_class_weight(class_weight='balanced', classes=classes, y=y_train)\n",
    "class_weights = class_weights.tolist()  # CatBoost принимает список\n",
    "print(\"Class weights:\", class_weights)\n",
    "\n",
    "# TF-IDF векторизатор\n",
    "tfidf_vectorizer = TfidfVectorizer()\n",
    "\n",
    "# Pipeline с CatBoost\n",
    "pipeline_cb = Pipeline([\n",
    "    ('tfidf', tfidf_vectorizer),\n",
    "    ('model_cb', CatBoostClassifier(\n",
    "        random_state=42, \n",
    "        verbose=0,\n",
    "        class_weights=class_weights  # <-- добавляем веса классов\n",
    "    ))\n",
    "])\n",
    "\n",
    "# Параметры для GridSearchCV\n",
    "param_cb = {\n",
    "    'model_cb__iterations': [100, 200],\n",
    "    'model_cb__learning_rate': [0.05, 0.1],\n",
    "    'model_cb__depth': [3, 4, 5],\n",
    "    'model_cb__l2_leaf_reg': [1, 3, 5]\n",
    "}\n",
    "\n",
    "# GridSearchCV\n",
    "grid_cb = GridSearchCV(\n",
    "    pipeline_cb,\n",
    "    param_grid=param_cb,\n",
    "    cv=5,\n",
    "    scoring='f1_weighted',\n",
    "    n_jobs=-1\n",
    ")\n",
    "\n",
    "# Обучение\n",
    "grid_cb.fit(X_train['text'], y_train)\n",
    "\n",
    "# Результаты\n",
    "best_params_cb = grid_cb.best_params_\n",
    "best_score_cb = grid_cb.best_score_\n",
    "\n",
    "results.append({\n",
    "    'Model': 'CatBoostClassifier',\n",
    "    'Best F1-weighted': best_score_cb,\n",
    "    'Best Params': best_params_cb\n",
    "})\n",
    "\n",
    "print(f'\\nЛучшие параметры CatBoostClassifier: {best_params_cb}')\n",
    "print(f'Лучшая оценка F1-меры: {best_score_cb}')\n"
   ]
  },
  {
   "cell_type": "code",
   "execution_count": 36,
   "id": "8dc2451c-c75e-4958-b2b4-3e056f67fd36",
   "metadata": {},
   "outputs": [
    {
     "data": {
      "text/html": [
       "<div>\n",
       "<style scoped>\n",
       "    .dataframe tbody tr th:only-of-type {\n",
       "        vertical-align: middle;\n",
       "    }\n",
       "\n",
       "    .dataframe tbody tr th {\n",
       "        vertical-align: top;\n",
       "    }\n",
       "\n",
       "    .dataframe thead th {\n",
       "        text-align: right;\n",
       "    }\n",
       "</style>\n",
       "<table border=\"1\" class=\"dataframe\">\n",
       "  <thead>\n",
       "    <tr style=\"text-align: right;\">\n",
       "      <th></th>\n",
       "      <th>Model</th>\n",
       "      <th>Best F1-weighted</th>\n",
       "      <th>Best Params</th>\n",
       "    </tr>\n",
       "  </thead>\n",
       "  <tbody>\n",
       "    <tr>\n",
       "      <th>0</th>\n",
       "      <td>LogisticRegression</td>\n",
       "      <td>0.705623</td>\n",
       "      <td>{'model__C': 10, 'model__fit_intercept': True,...</td>\n",
       "    </tr>\n",
       "    <tr>\n",
       "      <th>1</th>\n",
       "      <td>MultinomialNB</td>\n",
       "      <td>0.692716</td>\n",
       "      <td>{'model_nb': MultinomialNB(), 'model_nb__alpha...</td>\n",
       "    </tr>\n",
       "    <tr>\n",
       "      <th>2</th>\n",
       "      <td>LinearSVC</td>\n",
       "      <td>0.719819</td>\n",
       "      <td>{'model_svc__C': 1, 'model_svc__loss': 'square...</td>\n",
       "    </tr>\n",
       "    <tr>\n",
       "      <th>3</th>\n",
       "      <td>RidgeClassifier</td>\n",
       "      <td>0.713742</td>\n",
       "      <td>{'model_ridge__alpha': 0.1, 'tfidf__ngram_rang...</td>\n",
       "    </tr>\n",
       "    <tr>\n",
       "      <th>4</th>\n",
       "      <td>CatBoostClassifier</td>\n",
       "      <td>0.655483</td>\n",
       "      <td>{'model_cb__depth': 5, 'model_cb__iterations':...</td>\n",
       "    </tr>\n",
       "    <tr>\n",
       "      <th>5</th>\n",
       "      <td>LogisticRegression</td>\n",
       "      <td>0.725068</td>\n",
       "      <td>{'model__C': 1, 'model__fit_intercept': True, ...</td>\n",
       "    </tr>\n",
       "    <tr>\n",
       "      <th>6</th>\n",
       "      <td>NaiveBayes</td>\n",
       "      <td>0.624854</td>\n",
       "      <td>{'model_nb': MultinomialNB(), 'model_nb__alpha...</td>\n",
       "    </tr>\n",
       "    <tr>\n",
       "      <th>7</th>\n",
       "      <td>LinearSVC</td>\n",
       "      <td>0.723945</td>\n",
       "      <td>{'model_svc__C': 1, 'model_svc__loss': 'hinge'...</td>\n",
       "    </tr>\n",
       "    <tr>\n",
       "      <th>8</th>\n",
       "      <td>RidgeClassifier</td>\n",
       "      <td>0.713384</td>\n",
       "      <td>{'model_ridge__alpha': 1, 'tfidf__ngram_range'...</td>\n",
       "    </tr>\n",
       "    <tr>\n",
       "      <th>9</th>\n",
       "      <td>CatBoostClassifier</td>\n",
       "      <td>0.679651</td>\n",
       "      <td>{'model_cb__depth': 4, 'model_cb__iterations':...</td>\n",
       "    </tr>\n",
       "  </tbody>\n",
       "</table>\n",
       "</div>"
      ],
      "text/plain": [
       "                Model  Best F1-weighted  \\\n",
       "0  LogisticRegression          0.705623   \n",
       "1       MultinomialNB          0.692716   \n",
       "2           LinearSVC          0.719819   \n",
       "3     RidgeClassifier          0.713742   \n",
       "4  CatBoostClassifier          0.655483   \n",
       "5  LogisticRegression          0.725068   \n",
       "6          NaiveBayes          0.624854   \n",
       "7           LinearSVC          0.723945   \n",
       "8     RidgeClassifier          0.713384   \n",
       "9  CatBoostClassifier          0.679651   \n",
       "\n",
       "                                         Best Params  \n",
       "0  {'model__C': 10, 'model__fit_intercept': True,...  \n",
       "1  {'model_nb': MultinomialNB(), 'model_nb__alpha...  \n",
       "2  {'model_svc__C': 1, 'model_svc__loss': 'square...  \n",
       "3  {'model_ridge__alpha': 0.1, 'tfidf__ngram_rang...  \n",
       "4  {'model_cb__depth': 5, 'model_cb__iterations':...  \n",
       "5  {'model__C': 1, 'model__fit_intercept': True, ...  \n",
       "6  {'model_nb': MultinomialNB(), 'model_nb__alpha...  \n",
       "7  {'model_svc__C': 1, 'model_svc__loss': 'hinge'...  \n",
       "8  {'model_ridge__alpha': 1, 'tfidf__ngram_range'...  \n",
       "9  {'model_cb__depth': 4, 'model_cb__iterations':...  "
      ]
     },
     "metadata": {},
     "output_type": "display_data"
    }
   ],
   "source": [
    "# Создаем DataFrame и выводим\n",
    "results_data = pd.DataFrame(results)\n",
    "display(results_data)"
   ]
  },
  {
   "cell_type": "code",
   "execution_count": 37,
   "id": "f444c69b-a0da-4c49-8950-33e2a8c9d697",
   "metadata": {},
   "outputs": [
    {
     "name": "stdout",
     "output_type": "stream",
     "text": [
      "F1 (weighted) на тестовой выборке: 0.7067\n",
      "Precision (weighted) на тестовой выборке: 0.7068\n",
      "Recall (weighted) на тестовой выборке: 0.7271\n",
      "\n",
      "Classification Report:\n",
      "              precision    recall  f1-score   support\n",
      "\n",
      "    negative       0.50      0.33      0.40        60\n",
      "     neutral       0.77      0.90      0.83       275\n",
      "    positive       0.65      0.43      0.52        79\n",
      "\n",
      "    accuracy                           0.73       414\n",
      "   macro avg       0.64      0.55      0.58       414\n",
      "weighted avg       0.71      0.73      0.71       414\n",
      "\n",
      "Confusion Matrix:\n",
      "[[ 20  35   5]\n",
      " [ 15 247  13]\n",
      " [  5  40  34]]\n"
     ]
    },
    {
     "data": {
      "image/png": "[encoded data removed]",
      "text/plain": [
       "<Figure size 640x480 with 2 Axes>"
      ]
     },
     "metadata": {},
     "output_type": "display_data"
    }
   ],
   "source": [
    "from sklearn.metrics import f1_score, precision_score, recall_score, classification_report, confusion_matrix\n",
    "import matplotlib.pyplot as plt\n",
    "from sklearn.metrics import confusion_matrix, ConfusionMatrixDisplay\n",
    "\n",
    "# Обучим модель с лучшими гиперпараметрами\n",
    "best_model = grid_lr.best_estimator_\n",
    "\n",
    "# Предскажем на тестовой выборке\n",
    "y_pred = best_model.predict(X_test['text'])\n",
    "\n",
    "# Расчет метрик для многоклассового случая\n",
    "f1_best_model = f1_score(y_test, y_pred, average='weighted')\n",
    "precision_best_model = precision_score(y_test, y_pred, average='weighted')\n",
    "recall_best_model = recall_score(y_test, y_pred, average='weighted')\n",
    "\n",
    "print(f'F1 (weighted) на тестовой выборке: {f1_best_model:.4f}')\n",
    "print(f'Precision (weighted) на тестовой выборке: {precision_best_model:.4f}')\n",
    "print(f'Recall (weighted) на тестовой выборке: {recall_best_model:.4f}')\n",
    "\n",
    "# Полный отчет и матрица ошибок\n",
    "print(\"\\nClassification Report:\")\n",
    "print(classification_report(y_test, y_pred))\n",
    "\n",
    "print(\"Confusion Matrix:\")\n",
    "print(confusion_matrix(y_test, y_pred))\n",
    "\n",
    "# Создаем матрицу ошибок\n",
    "cm = confusion_matrix(y_test, y_pred, labels=['negative', 'neutral', 'positive'])\n",
    "\n",
    "# Визуализация через sklearn\n",
    "disp = ConfusionMatrixDisplay(confusion_matrix=cm, display_labels=['negative', 'neutral', 'positive'])\n",
    "disp.plot(cmap=plt.cm.Blues)\n",
    "plt.title(\"Confusion Matrix - Logistic Regression\")\n",
    "plt.show()"
   ]
  },
  {
   "cell_type": "markdown",
   "id": "04e582c0-dd0a-404b-af8f-f55e6c53e6fe",
   "metadata": {},
   "source": [
    "Использовать sample_weight только для негативного класса — увеличить вес негативных комментариев сильнее, чем просто balanced."
   ]
  },
  {
   "cell_type": "code",
   "execution_count": null,
   "id": "692b83c0-c82b-4135-ab94-d40d661d6527",
   "metadata": {},
   "outputs": [],
   "source": []
  }
 ],
 "metadata": {
  "kernelspec": {
   "display_name": "Python [conda env:base] *",
   "language": "python",
   "name": "conda-base-py"
  },
  "language_info": {
   "codemirror_mode": {
    "name": "ipython",
    "version": 3
   },
   "file_extension": ".py",
   "mimetype": "text/x-python",
   "name": "python",
   "nbconvert_exporter": "python",
   "pygments_lexer": "ipython3",
   "version": "3.13.5"
  }
 },
 "nbformat": 4,
 "nbformat_minor": 5
}
