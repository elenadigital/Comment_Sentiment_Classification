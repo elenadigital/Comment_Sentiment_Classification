{
 "cells": [
  {
   "cell_type": "code",
   "execution_count": 1,
   "id": "16831079-fa76-4d6d-85e6-09b896a4e8b1",
   "metadata": {},
   "outputs": [],
   "source": [
    "import re\n",
    "import numpy as np\n",
    "import pandas as pd\n",
    "import matplotlib.pyplot as plt\n",
    "import seaborn as sns\n",
    "\n",
    "import nltk\n",
    "import spacy\n",
    "from nltk.corpus import stopwords\n",
    "\n",
    "from tqdm import tqdm\n",
    "\n",
    "from sklearn.feature_extraction.text import TfidfVectorizer\n",
    "from sklearn.pipeline import Pipeline\n",
    "from sklearn.compose import ColumnTransformer\n",
    "from sklearn.model_selection import train_test_split, cross_val_score, GridSearchCV\n",
    "from sklearn.metrics import f1_score, precision_score, recall_score\n",
    "from sklearn.metrics import precision_recall_curve, PrecisionRecallDisplay\n",
    "from sklearn.metrics import roc_curve, RocCurveDisplay, auc\n",
    "\n",
    "from sklearn.linear_model import LogisticRegression\n",
    "from catboost import CatBoostClassifier\n",
    "from sklearn.svm import LinearSVC\n",
    "from sklearn.naive_bayes import MultinomialNB, ComplementNB\n",
    "from sklearn.linear_model import RidgeClassifier\n",
    "\n",
    "import warnings\n",
    "warnings.filterwarnings('ignore')"
   ]
  },
  {
   "cell_type": "code",
   "execution_count": 2,
   "id": "19e3d0e3-a152-4a62-834e-3ac6dde03763",
   "metadata": {},
   "outputs": [
    {
     "data": {
      "text/html": [
       "<div>\n",
       "<style scoped>\n",
       "    .dataframe tbody tr th:only-of-type {\n",
       "        vertical-align: middle;\n",
       "    }\n",
       "\n",
       "    .dataframe tbody tr th {\n",
       "        vertical-align: top;\n",
       "    }\n",
       "\n",
       "    .dataframe thead th {\n",
       "        text-align: right;\n",
       "    }\n",
       "</style>\n",
       "<table border=\"1\" class=\"dataframe\">\n",
       "  <thead>\n",
       "    <tr style=\"text-align: right;\">\n",
       "      <th></th>\n",
       "      <th>text</th>\n",
       "      <th>label</th>\n",
       "    </tr>\n",
       "  </thead>\n",
       "  <tbody>\n",
       "    <tr>\n",
       "      <th>0</th>\n",
       "      <td>велл они  всё равно что мусор так что ничего с...</td>\n",
       "      <td>negative</td>\n",
       "    </tr>\n",
       "    <tr>\n",
       "      <th>1</th>\n",
       "      <td>\"трезвая жизнь какая-то такая стрёмная\"\\r\\n(с)...</td>\n",
       "      <td>negative</td>\n",
       "    </tr>\n",
       "    <tr>\n",
       "      <th>2</th>\n",
       "      <td>Ой какие неожиданные результаты 🤭 https://t.co...</td>\n",
       "      <td>neutral</td>\n",
       "    </tr>\n",
       "    <tr>\n",
       "      <th>3</th>\n",
       "      <td>@Shvonder_chief @dimsmirnov175 На заборе тоже ...</td>\n",
       "      <td>neutral</td>\n",
       "    </tr>\n",
       "    <tr>\n",
       "      <th>4</th>\n",
       "      <td>@idkwhht мы тоже мебельная компания уджина😳😳😳</td>\n",
       "      <td>neutral</td>\n",
       "    </tr>\n",
       "    <tr>\n",
       "      <th>...</th>\n",
       "      <td>...</td>\n",
       "      <td>...</td>\n",
       "    </tr>\n",
       "    <tr>\n",
       "      <th>257480</th>\n",
       "      <td>Спала в родительском доме, на своей кровати......</td>\n",
       "      <td>positive</td>\n",
       "    </tr>\n",
       "    <tr>\n",
       "      <th>257481</th>\n",
       "      <td>RT @jebesilofyt: Эх... Мы немного решили сокра...</td>\n",
       "      <td>positive</td>\n",
       "    </tr>\n",
       "    <tr>\n",
       "      <th>257482</th>\n",
       "      <td>Что происходит со мной, когда в эфире #proacti...</td>\n",
       "      <td>positive</td>\n",
       "    </tr>\n",
       "    <tr>\n",
       "      <th>257483</th>\n",
       "      <td>\"Любимая,я подарю тебе эту звезду...\" Имя како...</td>\n",
       "      <td>positive</td>\n",
       "    </tr>\n",
       "    <tr>\n",
       "      <th>257484</th>\n",
       "      <td>@Ma_che_rie посмотри #непытайтесьпокинутьомск ...</td>\n",
       "      <td>positive</td>\n",
       "    </tr>\n",
       "  </tbody>\n",
       "</table>\n",
       "<p>257485 rows × 2 columns</p>\n",
       "</div>"
      ],
      "text/plain": [
       "                                                     text     label\n",
       "0       велл они  всё равно что мусор так что ничего с...  negative\n",
       "1       \"трезвая жизнь какая-то такая стрёмная\"\\r\\n(с)...  negative\n",
       "2       Ой какие неожиданные результаты 🤭 https://t.co...   neutral\n",
       "3       @Shvonder_chief @dimsmirnov175 На заборе тоже ...   neutral\n",
       "4           @idkwhht мы тоже мебельная компания уджина😳😳😳   neutral\n",
       "...                                                   ...       ...\n",
       "257480  Спала в родительском доме, на своей кровати......  positive\n",
       "257481  RT @jebesilofyt: Эх... Мы немного решили сокра...  positive\n",
       "257482  Что происходит со мной, когда в эфире #proacti...  positive\n",
       "257483  \"Любимая,я подарю тебе эту звезду...\" Имя како...  positive\n",
       "257484  @Ma_che_rie посмотри #непытайтесьпокинутьомск ...  positive\n",
       "\n",
       "[257485 rows x 2 columns]"
      ]
     },
     "execution_count": 2,
     "metadata": {},
     "output_type": "execute_result"
    }
   ],
   "source": [
    "data_1 = pd.read_csv('/Users/lena/vk comments/dataset.csv')\n",
    "data_1"
   ]
  },
  {
   "cell_type": "code",
   "execution_count": 3,
   "id": "eab45beb-5d38-4496-87d0-bc25348d8bed",
   "metadata": {},
   "outputs": [
    {
     "data": {
      "text/html": [
       "<div>\n",
       "<style scoped>\n",
       "    .dataframe tbody tr th:only-of-type {\n",
       "        vertical-align: middle;\n",
       "    }\n",
       "\n",
       "    .dataframe tbody tr th {\n",
       "        vertical-align: top;\n",
       "    }\n",
       "\n",
       "    .dataframe thead th {\n",
       "        text-align: right;\n",
       "    }\n",
       "</style>\n",
       "<table border=\"1\" class=\"dataframe\">\n",
       "  <thead>\n",
       "    <tr style=\"text-align: right;\">\n",
       "      <th></th>\n",
       "      <th>text</th>\n",
       "      <th>label</th>\n",
       "    </tr>\n",
       "  </thead>\n",
       "  <tbody>\n",
       "    <tr>\n",
       "      <th>0</th>\n",
       "      <td>.... ведь одна из этих дорог ведёт в ваше серд...</td>\n",
       "      <td>neutral</td>\n",
       "    </tr>\n",
       "    <tr>\n",
       "      <th>1</th>\n",
       "      <td>…лучше в ВК, я редко захожу…</td>\n",
       "      <td>neutral</td>\n",
       "    </tr>\n",
       "    <tr>\n",
       "      <th>2</th>\n",
       "      <td>\"- Мама, купи Seti! - У нас есть Сети дома. Се...</td>\n",
       "      <td>neutral</td>\n",
       "    </tr>\n",
       "    <tr>\n",
       "      <th>3</th>\n",
       "      <td>\"— Знаешь, откуда эти шрамы?©\"</td>\n",
       "      <td>neutral</td>\n",
       "    </tr>\n",
       "    <tr>\n",
       "      <th>4</th>\n",
       "      <td>\"\"\" Kinfire — к сожалению, сдвигается на февра...</td>\n",
       "      <td>negative</td>\n",
       "    </tr>\n",
       "    <tr>\n",
       "      <th>...</th>\n",
       "      <td>...</td>\n",
       "      <td>...</td>\n",
       "    </tr>\n",
       "    <tr>\n",
       "      <th>2216</th>\n",
       "      <td>Я удалила приложение вайлдберриз после несколь...</td>\n",
       "      <td>negative</td>\n",
       "    </tr>\n",
       "    <tr>\n",
       "      <th>2217</th>\n",
       "      <td>Я уж думал не дождёмся! 😱</td>\n",
       "      <td>negative</td>\n",
       "    </tr>\n",
       "    <tr>\n",
       "      <th>2218</th>\n",
       "      <td>Я что-то пропустил, а коробки Ascension Tactic...</td>\n",
       "      <td>neutral</td>\n",
       "    </tr>\n",
       "    <tr>\n",
       "      <th>2219</th>\n",
       "      <td>я чуть себе усложнил)</td>\n",
       "      <td>neutral</td>\n",
       "    </tr>\n",
       "    <tr>\n",
       "      <th>2220</th>\n",
       "      <td>Явно видно, что боссов мало. Есть ли информаци...</td>\n",
       "      <td>neutral</td>\n",
       "    </tr>\n",
       "  </tbody>\n",
       "</table>\n",
       "<p>2221 rows × 2 columns</p>\n",
       "</div>"
      ],
      "text/plain": [
       "                                                   text     label\n",
       "0     .... ведь одна из этих дорог ведёт в ваше серд...   neutral\n",
       "1                          …лучше в ВК, я редко захожу…   neutral\n",
       "2     \"- Мама, купи Seti! - У нас есть Сети дома. Се...   neutral\n",
       "3                        \"— Знаешь, откуда эти шрамы?©\"   neutral\n",
       "4     \"\"\" Kinfire — к сожалению, сдвигается на февра...  negative\n",
       "...                                                 ...       ...\n",
       "2216  Я удалила приложение вайлдберриз после несколь...  negative\n",
       "2217                          Я уж думал не дождёмся! 😱  negative\n",
       "2218  Я что-то пропустил, а коробки Ascension Tactic...   neutral\n",
       "2219                              я чуть себе усложнил)   neutral\n",
       "2220  Явно видно, что боссов мало. Есть ли информаци...   neutral\n",
       "\n",
       "[2221 rows x 2 columns]"
      ]
     },
     "execution_count": 3,
     "metadata": {},
     "output_type": "execute_result"
    }
   ],
   "source": [
    "data_2 = pd.read_csv('/Users/lena/vk comments/vk_comments_data.csv')\n",
    "data_2"
   ]
  },
  {
   "cell_type": "code",
   "execution_count": 4,
   "id": "ca337695-7e8a-41ab-be30-60dfff6c8227",
   "metadata": {},
   "outputs": [
    {
     "data": {
      "text/plain": [
       "<Axes: xlabel='label', ylabel='count'>"
      ]
     },
     "execution_count": 4,
     "metadata": {},
     "output_type": "execute_result"
    },
    {
     "data": {
      "image/png": "[encoded data removed]",
      "text/plain": [
       "<Figure size 640x480 with 1 Axes>"
      ]
     },
     "metadata": {},
     "output_type": "display_data"
    }
   ],
   "source": [
    "sns.countplot(data=data_1, x = 'label')"
   ]
  },
  {
   "cell_type": "code",
   "execution_count": 5,
   "id": "c53b5303-c91a-407d-bda9-2180c809befa",
   "metadata": {},
   "outputs": [
    {
     "data": {
      "text/plain": [
       "label\n",
       "positive    127325\n",
       "negative    124819\n",
       "neutral       5341\n",
       "Name: count, dtype: int64"
      ]
     },
     "execution_count": 5,
     "metadata": {},
     "output_type": "execute_result"
    }
   ],
   "source": [
    "data_1['label'].value_counts()"
   ]
  },
  {
   "cell_type": "code",
   "execution_count": 6,
   "id": "bcd2880c-518a-4e2b-9a93-84f5151f7cdf",
   "metadata": {},
   "outputs": [
    {
     "data": {
      "text/plain": [
       "<Axes: xlabel='label', ylabel='count'>"
      ]
     },
     "execution_count": 6,
     "metadata": {},
     "output_type": "execute_result"
    },
    {
     "data": {
      "image/png": "[encoded data removed]",
      "text/plain": [
       "<Figure size 640x480 with 1 Axes>"
      ]
     },
     "metadata": {},
     "output_type": "display_data"
    }
   ],
   "source": [
    "sns.countplot(data=data_2, x = 'label')"
   ]
  },
  {
   "cell_type": "code",
   "execution_count": 7,
   "id": "a1a4145e-8daa-413c-8e4f-707be421576e",
   "metadata": {},
   "outputs": [
    {
     "data": {
      "text/plain": [
       "label\n",
       "neutral     1487\n",
       "positive     428\n",
       "negative     306\n",
       "Name: count, dtype: int64"
      ]
     },
     "execution_count": 7,
     "metadata": {},
     "output_type": "execute_result"
    }
   ],
   "source": [
    "data_2['label'].value_counts()"
   ]
  },
  {
   "cell_type": "code",
   "execution_count": 8,
   "id": "ff467604-f484-4ca4-923c-c9577a866325",
   "metadata": {},
   "outputs": [],
   "source": [
    "# Размер для каждого класса в итоговом датасете\n",
    "target_per_class = 2500\n",
    "\n",
    "# Собираем финальный датасет\n",
    "data = pd.DataFrame()\n",
    "\n",
    "for label in ['positive', 'negative', 'neutral']:\n",
    "    my_subset = data_2[data_2['label'] == label]\n",
    "    n_needed = target_per_class - len(my_subset)\n",
    "    \n",
    "    # Берём подвыборку из большого датасета\n",
    "    big_subset = data_1[data_1['label'] == label].sample(n=n_needed, random_state=42)\n",
    "    \n",
    "    # Объединяем с твоими данными\n",
    "    combined = pd.concat([my_subset, big_subset])\n",
    "    \n",
    "    data = pd.concat([data, combined])\n",
    "\n",
    "# Перемешиваем строки\n",
    "data = data.sample(frac=1, random_state=42).reset_index(drop=True)"
   ]
  },
  {
   "cell_type": "code",
   "execution_count": 9,
   "id": "80d598f8-33da-4f59-902d-889820176196",
   "metadata": {},
   "outputs": [
    {
     "data": {
      "text/html": [
       "<div>\n",
       "<style scoped>\n",
       "    .dataframe tbody tr th:only-of-type {\n",
       "        vertical-align: middle;\n",
       "    }\n",
       "\n",
       "    .dataframe tbody tr th {\n",
       "        vertical-align: top;\n",
       "    }\n",
       "\n",
       "    .dataframe thead th {\n",
       "        text-align: right;\n",
       "    }\n",
       "</style>\n",
       "<table border=\"1\" class=\"dataframe\">\n",
       "  <thead>\n",
       "    <tr style=\"text-align: right;\">\n",
       "      <th></th>\n",
       "      <th>text</th>\n",
       "      <th>label</th>\n",
       "    </tr>\n",
       "  </thead>\n",
       "  <tbody>\n",
       "    <tr>\n",
       "      <th>0</th>\n",
       "      <td>@19_martini_96 я хотела, но меня отговорили , ...</td>\n",
       "      <td>positive</td>\n",
       "    </tr>\n",
       "    <tr>\n",
       "      <th>1</th>\n",
       "      <td>Супер! Это нам точно надо. У меня вопрос: в ка...</td>\n",
       "      <td>neutral</td>\n",
       "    </tr>\n",
       "    <tr>\n",
       "      <th>2</th>\n",
       "      <td>pdf &amp;amp;amp;&amp;amp;amp; djvu красиво, но вот те...</td>\n",
       "      <td>positive</td>\n",
       "    </tr>\n",
       "    <tr>\n",
       "      <th>3</th>\n",
       "      <td>@ksyshaalex1 @tx2zF5fjK8RwyhW В традициях РИ к...</td>\n",
       "      <td>neutral</td>\n",
       "    </tr>\n",
       "    <tr>\n",
       "      <th>4</th>\n",
       "      <td>Тимофей уровень забыли поднять.</td>\n",
       "      <td>neutral</td>\n",
       "    </tr>\n",
       "  </tbody>\n",
       "</table>\n",
       "</div>"
      ],
      "text/plain": [
       "                                                text     label\n",
       "0  @19_martini_96 я хотела, но меня отговорили , ...  positive\n",
       "1  Супер! Это нам точно надо. У меня вопрос: в ка...   neutral\n",
       "2  pdf &amp;amp;&amp;amp; djvu красиво, но вот те...  positive\n",
       "3  @ksyshaalex1 @tx2zF5fjK8RwyhW В традициях РИ к...   neutral\n",
       "4                    Тимофей уровень забыли поднять.   neutral"
      ]
     },
     "execution_count": 9,
     "metadata": {},
     "output_type": "execute_result"
    }
   ],
   "source": [
    "data.head()"
   ]
  },
  {
   "cell_type": "code",
   "execution_count": 10,
   "id": "345d26d7-84c9-424b-8344-317c1148de43",
   "metadata": {},
   "outputs": [
    {
     "name": "stdout",
     "output_type": "stream",
     "text": [
      "<class 'pandas.core.frame.DataFrame'>\n",
      "RangeIndex: 7500 entries, 0 to 7499\n",
      "Data columns (total 2 columns):\n",
      " #   Column  Non-Null Count  Dtype \n",
      "---  ------  --------------  ----- \n",
      " 0   text    7500 non-null   object\n",
      " 1   label   7500 non-null   object\n",
      "dtypes: object(2)\n",
      "memory usage: 117.3+ KB\n"
     ]
    }
   ],
   "source": [
    "data.info()"
   ]
  },
  {
   "cell_type": "code",
   "execution_count": 11,
   "id": "7acd85ff-caf5-4125-8701-067d5f7b4bb7",
   "metadata": {},
   "outputs": [
    {
     "data": {
      "text/plain": [
       "<Axes: xlabel='label', ylabel='count'>"
      ]
     },
     "execution_count": 11,
     "metadata": {},
     "output_type": "execute_result"
    },
    {
     "data": {
      "image/png": "[encoded data removed]",
      "text/plain": [
       "<Figure size 640x480 with 1 Axes>"
      ]
     },
     "metadata": {},
     "output_type": "display_data"
    }
   ],
   "source": [
    "sns.countplot(data=data, x='label')"
   ]
  },
  {
   "cell_type": "code",
   "execution_count": 12,
   "id": "1aea71af-cffb-490e-8ecc-89a6a9c9b02e",
   "metadata": {},
   "outputs": [
    {
     "data": {
      "text/plain": [
       "text     0\n",
       "label    0\n",
       "dtype: int64"
      ]
     },
     "execution_count": 12,
     "metadata": {},
     "output_type": "execute_result"
    }
   ],
   "source": [
    "data.isna().sum()"
   ]
  },
  {
   "cell_type": "code",
   "execution_count": 13,
   "id": "c4000582-cb0a-4a40-b34f-f30446dfd245",
   "metadata": {},
   "outputs": [
    {
     "data": {
      "text/plain": [
       "np.int64(17)"
      ]
     },
     "execution_count": 13,
     "metadata": {},
     "output_type": "execute_result"
    }
   ],
   "source": [
    "data.duplicated().sum()"
   ]
  },
  {
   "cell_type": "code",
   "execution_count": 14,
   "id": "31d0dbd4-fc77-49dd-accf-934857d185c8",
   "metadata": {},
   "outputs": [],
   "source": [
    "# Удалим явные дубли\n",
    "data = data.drop_duplicates()"
   ]
  },
  {
   "cell_type": "code",
   "execution_count": 15,
   "id": "99282985-4f20-4787-8a9c-db9255b53d99",
   "metadata": {},
   "outputs": [
    {
     "name": "stdout",
     "output_type": "stream",
     "text": [
      "<class 'pandas.core.frame.DataFrame'>\n",
      "Index: 7483 entries, 0 to 7499\n",
      "Data columns (total 2 columns):\n",
      " #   Column  Non-Null Count  Dtype \n",
      "---  ------  --------------  ----- \n",
      " 0   text    7483 non-null   object\n",
      " 1   label   7483 non-null   object\n",
      "dtypes: object(2)\n",
      "memory usage: 175.4+ KB\n"
     ]
    }
   ],
   "source": [
    "data.info()"
   ]
  },
  {
   "cell_type": "code",
   "execution_count": 16,
   "id": "cf33a8f8-e5d8-4c6e-be08-41ba7df44c4d",
   "metadata": {},
   "outputs": [
    {
     "data": {
      "text/plain": [
       "<Axes: xlabel='label', ylabel='count'>"
      ]
     },
     "execution_count": 16,
     "metadata": {},
     "output_type": "execute_result"
    },
    {
     "data": {
      "image/png": "[encoded data removed]",
      "text/plain": [
       "<Figure size 640x480 with 1 Axes>"
      ]
     },
     "metadata": {},
     "output_type": "display_data"
    }
   ],
   "source": [
    "sns.countplot(data=data, x='label')"
   ]
  },
  {
   "cell_type": "code",
   "execution_count": 17,
   "id": "bafc9fbd-80d8-4d9f-bba9-30722567a4e1",
   "metadata": {},
   "outputs": [
    {
     "name": "stderr",
     "output_type": "stream",
     "text": [
      "[nltk_data] Downloading package stopwords to /Users/lena/nltk_data...\n",
      "[nltk_data]   Package stopwords is already up-to-date!\n"
     ]
    }
   ],
   "source": [
    "# 1. Скачиваем стоп-слова для русского\n",
    "nltk.download(\"stopwords\")\n",
    "russian_stopwords = set(stopwords.words(\"russian\"))\n",
    "\n",
    "# 2. Загружаем русскую модель spaCy\n",
    "nlp = spacy.load(\"ru_core_news_sm\", disable=[\"parser\", \"ner\"])"
   ]
  },
  {
   "cell_type": "code",
   "execution_count": 18,
   "id": "d50fd6d1-c6c8-43c6-9248-f1ae46e2ae64",
   "metadata": {},
   "outputs": [],
   "source": [
    "# Очистка текста\n",
    "def clean_text(text):\n",
    "    text = text.lower()  # Приведение к нижнему регистру\n",
    "    text = re.sub(r\"[^а-яёa-z0-9\\s]\", \" \", text)  # Удаление всех символов, кроме букв\n",
    "    return text"
   ]
  },
  {
   "cell_type": "code",
   "execution_count": 19,
   "id": "cd865111-15e5-4c87-8e1c-79a4b4cadcfc",
   "metadata": {},
   "outputs": [
    {
     "name": "stdout",
     "output_type": "stream",
     "text": [
      "Гага, а можете посмотреть на The Voynich Puzzle? → гага мочь посмотреть\n",
      "Игра отличная, спасибо большое! → игра отличный спасибо большой\n",
      "А рассрочка где? → рассрочка где\n",
      "Цены грабительские! → цена грабительский\n",
      "Быстро доставили, всё понравилось 👍 → быстро доставить понравиться\n"
     ]
    }
   ],
   "source": [
    "# Лемматизация с учетом частей речи (для русского)\n",
    "def lemmatize_with_pos(text):\n",
    "    doc = nlp(text.lower())\n",
    "    lemmatized_text = []\n",
    "    for token in doc:\n",
    "        if token.pos_ in [\"NOUN\", \"VERB\", \"ADJ\", \"ADV\"]:  \n",
    "            lemmatized_text.append(token.lemma_)\n",
    "    return \" \".join(lemmatized_text)\n",
    "\n",
    "\n",
    "# Пример\n",
    "examples = [\n",
    "    \"Гага, а можете посмотреть на The Voynich Puzzle?\",\n",
    "    \"Игра отличная, спасибо большое!\",\n",
    "    \"А рассрочка где?\",\n",
    "    \"Цены грабительские!\",\n",
    "    \"Быстро доставили, всё понравилось 👍\"\n",
    "]\n",
    "\n",
    "for ex in examples:\n",
    "    print(ex, \"→\", lemmatize_with_pos(ex))"
   ]
  },
  {
   "cell_type": "code",
   "execution_count": 20,
   "id": "902a829f-8ead-4d38-98e9-5a0a15bf4da6",
   "metadata": {},
   "outputs": [],
   "source": [
    "# --- Удаление стоп-слов ---\n",
    "def remove_stopwords(text):\n",
    "    return \" \".join([word for word in text.split() if word not in russian_stopwords])"
   ]
  },
  {
   "cell_type": "code",
   "execution_count": 21,
   "id": "4a4aea03-bfc1-499d-bb14-d50679ef7f20",
   "metadata": {},
   "outputs": [
    {
     "name": "stdout",
     "output_type": "stream",
     "text": [
      "Гага, а можете посмотреть на The Voynich Puzzle? → гага мочь посмотреть\n",
      "Игра отличная, спасибо большое! → игра отличный спасибо большой\n",
      "А рассрочка где? → рассрочка\n",
      "Цены грабительские! → цена грабительский\n",
      "Быстро доставили, всё понравилось 👍 → быстро доставить понравиться\n"
     ]
    }
   ],
   "source": [
    "# --- Финальная функция предобработки ---\n",
    "def preprocess_text(text, remove_stops=True):\n",
    "    cleaned_text = clean_text(text)\n",
    "    lemmatized_text = lemmatize_with_pos(cleaned_text)\n",
    "    if remove_stops:\n",
    "        final_text = remove_stopwords(lemmatized_text)\n",
    "    else:\n",
    "        final_text = lemmatized_text\n",
    "    return final_text\n",
    "\n",
    "\n",
    "# Пример\n",
    "examples = [\n",
    "    \"Гага, а можете посмотреть на The Voynich Puzzle?\",\n",
    "    \"Игра отличная, спасибо большое!\",\n",
    "    \"А рассрочка где?\",\n",
    "    \"Цены грабительские!\",\n",
    "    \"Быстро доставили, всё понравилось 👍\"\n",
    "]\n",
    "\n",
    "for ex in examples:\n",
    "    print(ex, \"→\", preprocess_text(ex))"
   ]
  },
  {
   "cell_type": "code",
   "execution_count": 22,
   "id": "7060704d-5e08-40cc-b842-7838bd9c202e",
   "metadata": {},
   "outputs": [
    {
     "name": "stderr",
     "output_type": "stream",
     "text": [
      "100%|███████████████████████████████████████| 7483/7483 [01:56<00:00, 64.35it/s]\n"
     ]
    }
   ],
   "source": [
    "# Подключаем прогресс-бар\n",
    "tqdm.pandas()\n",
    "\n",
    "# Применяем функцию предобработки к каждому тексту\n",
    "data['text'] = data['text'].progress_apply(preprocess_text)"
   ]
  },
  {
   "cell_type": "code",
   "execution_count": 23,
   "id": "560ded07-76f7-4c70-9dcd-660053d77fd9",
   "metadata": {},
   "outputs": [
    {
     "data": {
      "text/html": [
       "<div>\n",
       "<style scoped>\n",
       "    .dataframe tbody tr th:only-of-type {\n",
       "        vertical-align: middle;\n",
       "    }\n",
       "\n",
       "    .dataframe tbody tr th {\n",
       "        vertical-align: top;\n",
       "    }\n",
       "\n",
       "    .dataframe thead th {\n",
       "        text-align: right;\n",
       "    }\n",
       "</style>\n",
       "<table border=\"1\" class=\"dataframe\">\n",
       "  <thead>\n",
       "    <tr style=\"text-align: right;\">\n",
       "      <th></th>\n",
       "      <th>text</th>\n",
       "      <th>label</th>\n",
       "    </tr>\n",
       "  </thead>\n",
       "  <tbody>\n",
       "    <tr>\n",
       "      <th>0</th>\n",
       "      <td>хотеть отговорить слава бог</td>\n",
       "      <td>positive</td>\n",
       "    </tr>\n",
       "    <tr>\n",
       "      <th>1</th>\n",
       "      <td>супер точно вопрос протектор упаковывать вроде...</td>\n",
       "      <td>neutral</td>\n",
       "    </tr>\n",
       "    <tr>\n",
       "      <th>2</th>\n",
       "      <td>красиво текст граматный функциональный</td>\n",
       "      <td>positive</td>\n",
       "    </tr>\n",
       "    <tr>\n",
       "      <th>3</th>\n",
       "      <td>традиция образец д фактория американец гончар ...</td>\n",
       "      <td>neutral</td>\n",
       "    </tr>\n",
       "    <tr>\n",
       "      <th>4</th>\n",
       "      <td>тимофей уровень забыть поднять</td>\n",
       "      <td>neutral</td>\n",
       "    </tr>\n",
       "  </tbody>\n",
       "</table>\n",
       "</div>"
      ],
      "text/plain": [
       "                                                text     label\n",
       "0                        хотеть отговорить слава бог  positive\n",
       "1  супер точно вопрос протектор упаковывать вроде...   neutral\n",
       "2             красиво текст граматный функциональный  positive\n",
       "3  традиция образец д фактория американец гончар ...   neutral\n",
       "4                     тимофей уровень забыть поднять   neutral"
      ]
     },
     "execution_count": 23,
     "metadata": {},
     "output_type": "execute_result"
    }
   ],
   "source": [
    "data.head()"
   ]
  },
  {
   "cell_type": "code",
   "execution_count": 24,
   "id": "7f9b2f9a-3a74-4520-ab0c-2f5167cdf7f3",
   "metadata": {},
   "outputs": [
    {
     "data": {
      "text/plain": [
       "np.int64(288)"
      ]
     },
     "execution_count": 24,
     "metadata": {},
     "output_type": "execute_result"
    }
   ],
   "source": [
    "data.duplicated().sum()"
   ]
  },
  {
   "cell_type": "code",
   "execution_count": 25,
   "id": "65bab040-4d96-4831-b94e-51376602436b",
   "metadata": {},
   "outputs": [],
   "source": [
    "# Удалим явные дубли\n",
    "data = data.drop_duplicates()"
   ]
  },
  {
   "cell_type": "code",
   "execution_count": 26,
   "id": "b452c899-641b-40f7-bb8d-240da4234393",
   "metadata": {},
   "outputs": [
    {
     "name": "stdout",
     "output_type": "stream",
     "text": [
      "<class 'pandas.core.frame.DataFrame'>\n",
      "Index: 7195 entries, 0 to 7499\n",
      "Data columns (total 2 columns):\n",
      " #   Column  Non-Null Count  Dtype \n",
      "---  ------  --------------  ----- \n",
      " 0   text    7195 non-null   object\n",
      " 1   label   7195 non-null   object\n",
      "dtypes: object(2)\n",
      "memory usage: 168.6+ KB\n"
     ]
    }
   ],
   "source": [
    "data.info()"
   ]
  },
  {
   "cell_type": "markdown",
   "id": "bd6c48c5-3397-4874-a51a-3c0ee70d18e2",
   "metadata": {},
   "source": [
    "лучше использовать f1_weighted. Вот почему:\n",
    "\n",
    "Классы сбалансированы (по 1000 на каждый)\n",
    "\n",
    "В этом случае f1_weighted и обычный f1 (macro) будут близки по значению, но weighted учитывает support, то есть количество примеров на каждом классе.\n",
    "\n",
    "Это полезно, если в будущем может появиться несколько разных выборок с разным числом примеров, или ты хочешь честно учитывать тестовые данные.\n",
    "\n",
    "Обычный F1 для многоклассового случая (macro)\n",
    "\n",
    "Считает среднее по классам без учета их размера, что иногда завышает оценку для редких классов.\n",
    "\n",
    "У тебя сейчас классы равные, так что macro и weighted почти совпадут, но weighted безопаснее."
   ]
  },
  {
   "cell_type": "code",
   "execution_count": 27,
   "id": "5c4f1535-0d08-4757-93c2-b9336f65a8e2",
   "metadata": {},
   "outputs": [],
   "source": [
    "X = data.drop('label', axis=1)\n",
    "y = data['label']"
   ]
  },
  {
   "cell_type": "code",
   "execution_count": 28,
   "id": "caad6f93-dde4-4a8b-8dc5-ed05b1e495db",
   "metadata": {},
   "outputs": [
    {
     "name": "stdout",
     "output_type": "stream",
     "text": [
      "(5756, 1) (1439, 1) (5756,) (1439,)\n"
     ]
    }
   ],
   "source": [
    "# Разделим данные на обучающую и тестовую выборки с сохранением баланса классов\n",
    "X_train, X_test, y_train, y_test = train_test_split(\n",
    "    X, y, \n",
    "    test_size=0.2, \n",
    "    random_state=0,\n",
    "    stratify=y  # сохраняем соотношение классов\n",
    ")\n",
    "\n",
    "print(X_train.shape, X_test.shape, y_train.shape, y_test.shape)"
   ]
  },
  {
   "cell_type": "code",
   "execution_count": 29,
   "id": "12481924-eefe-4f27-a328-f0d5ff1fb132",
   "metadata": {},
   "outputs": [
    {
     "name": "stdout",
     "output_type": "stream",
     "text": [
      "TF-IDF признаки для обучающего набора данных: (5756, 9866)\n",
      "TF-IDF признаки для тестового набора данных: (1439, 9866)\n"
     ]
    }
   ],
   "source": [
    "# Создадим экземпляр TfidfVectorizer\n",
    "tfidf_vectorizer = TfidfVectorizer()\n",
    "\n",
    "# Преобразуем текстовые данные в TF-IDF признаки\n",
    "X_train_tfidf = tfidf_vectorizer.fit_transform(X_train['text'])\n",
    "X_test_tfidf = tfidf_vectorizer.transform(X_test['text'])\n",
    "\n",
    "print(\"TF-IDF признаки для обучающего набора данных:\", X_train_tfidf.shape)\n",
    "print(\"TF-IDF признаки для тестового набора данных:\", X_test_tfidf.shape)"
   ]
  },
  {
   "cell_type": "code",
   "execution_count": 30,
   "id": "ace42032-a461-47b8-9b68-7aba1013d732",
   "metadata": {},
   "outputs": [],
   "source": [
    "# Список для сбора результатов\n",
    "results = []"
   ]
  },
  {
   "cell_type": "code",
   "execution_count": 31,
   "id": "00cf91ea-f372-449d-a383-3e6450739ab1",
   "metadata": {},
   "outputs": [
    {
     "name": "stdout",
     "output_type": "stream",
     "text": [
      "Лучшие параметры: {'model__C': 1, 'model__fit_intercept': True, 'model__penalty': 'l2', 'tfidf__max_df': 0.9, 'tfidf__max_features': 5000, 'tfidf__min_df': 2, 'tfidf__ngram_range': (1, 2)}\n",
      "Лучшая оценка F1-меры: 0.5527593447205096\n"
     ]
    }
   ],
   "source": [
    "# Pipeline\n",
    "pipeline = Pipeline([\n",
    "    ('tfidf', tfidf_vectorizer),  # Твой экземпляр TfidfVectorizer\n",
    "    ('model', LogisticRegression(random_state=42, solver='liblinear', max_iter=5000))  # solver liblinear для l1/l2\n",
    "])\n",
    "\n",
    "# Параметры для GridSearchCV\n",
    "param_lr = {\n",
    "    'tfidf__ngram_range': [(1, 1), (1, 2)],       # униграммы или униграммы+биграммы\n",
    "    'tfidf__min_df': [2, 5],                       # игнорируем редкие слова\n",
    "    'tfidf__max_df': [0.9, 0.95],                  # игнорируем слишком частые слова\n",
    "    'tfidf__max_features': [5000, 6000],          # ограничение признаков\n",
    "    'model__penalty': ['l1', 'l2'],               # l1/l2 регуляризация\n",
    "    'model__C': [0.01, 0.1, 1, 10],               # сила регуляризации\n",
    "    'model__fit_intercept': [True]                # оставляем True\n",
    "}\n",
    "\n",
    "# GridSearchCV с f1 (для многоклассового можно добавить average='weighted')\n",
    "grid_lr = GridSearchCV(\n",
    "    pipeline,\n",
    "    param_grid=param_lr,\n",
    "    cv=5,\n",
    "    scoring='f1_weighted',  # для многоклассового случая\n",
    "    n_jobs=-1\n",
    ")\n",
    "\n",
    "# Обучение\n",
    "grid_lr.fit(X_train['text'], y_train)\n",
    "\n",
    "# Лучшие параметры и результат\n",
    "best_params_lr = grid_lr.best_params_\n",
    "best_score_lr = grid_lr.best_score_\n",
    "\n",
    "# Добавляем в список\n",
    "results.append({\n",
    "    'Model': 'LogisticRegression',\n",
    "    'Best F1-weighted': best_score_lr,\n",
    "    'Best Params': best_params_lr\n",
    "})\n",
    "\n",
    "print(f'Лучшие параметры: {best_params_lr}')\n",
    "print(f'Лучшая оценка F1-меры: {best_score_lr}')"
   ]
  },
  {
   "cell_type": "code",
   "execution_count": 32,
   "id": "782cc788-d6d5-4650-9935-d532e15709ff",
   "metadata": {},
   "outputs": [
    {
     "name": "stdout",
     "output_type": "stream",
     "text": [
      "\n",
      "Лучшие параметры CatBoostClassifier: {'model_cb__depth': 5, 'model_cb__iterations': 200, 'model_cb__l2_leaf_reg': 1, 'model_cb__learning_rate': 0.1}\n",
      "Лучшая оценка F1-меры: 0.5206216146471204\n"
     ]
    }
   ],
   "source": [
    "# Pipeline\n",
    "pipeline_cb = Pipeline([\n",
    "    ('tfidf', tfidf_vectorizer),\n",
    "    ('model_cb', CatBoostClassifier(random_state=42, verbose=0))  # скрываем вывод\n",
    "])\n",
    "\n",
    "# Параметры для GridSearchCV\n",
    "param_cb = {\n",
    "    'model_cb__iterations': [100, 200],            # небольшое количество итераций для малого датасета\n",
    "    'model_cb__learning_rate': [0.05, 0.1],       # умеренный learning rate\n",
    "    'model_cb__depth': [3, 4, 5],                 # неглубокие деревья для предотвращения переобучения\n",
    "    'model_cb__l2_leaf_reg': [1, 3, 5]           # регуляризация\n",
    "}\n",
    "\n",
    "# GridSearchCV\n",
    "grid_cb = GridSearchCV(\n",
    "    pipeline_cb,\n",
    "    param_grid=param_cb,\n",
    "    cv=5,\n",
    "    scoring='f1_weighted',  # для многоклассового F1\n",
    "    n_jobs=-1\n",
    ")\n",
    "\n",
    "# Обучение\n",
    "grid_cb.fit(X_train['text'], y_train)\n",
    "\n",
    "# Результаты\n",
    "best_params_cb = grid_cb.best_params_\n",
    "best_score_cb = grid_cb.best_score_\n",
    "\n",
    "# Добавляем в список\n",
    "results.append({\n",
    "    'Model': 'CatBoostClassifier',\n",
    "    'Best F1-weighted': best_score_cb,\n",
    "    'Best Params': best_params_cb\n",
    "})\n",
    "\n",
    "print(f'\\nЛучшие параметры CatBoostClassifier: {best_params_cb}')\n",
    "print(f'Лучшая оценка F1-меры: {best_score_cb}')"
   ]
  },
  {
   "cell_type": "code",
   "execution_count": 32,
   "id": "923c6c0d-2894-485c-a9ab-54ddfb1b3e42",
   "metadata": {},
   "outputs": [
    {
     "name": "stdout",
     "output_type": "stream",
     "text": [
      "\n",
      "Лучшие параметры Naive Bayes: {'model_nb': ComplementNB(), 'model_nb__alpha': 1.0, 'tfidf__ngram_range': (1, 2)}\n",
      "Лучшая оценка F1-меры: 0.5520808788297764\n"
     ]
    }
   ],
   "source": [
    "# Pipeline для MultinomialNB / ComplementNB\n",
    "pipeline_nb = Pipeline([\n",
    "    ('tfidf', tfidf_vectorizer),  # твой TF-IDF векторизатор\n",
    "    ('model_nb', MultinomialNB())  # можно будет менять на ComplementNB через GridSearch\n",
    "])\n",
    "\n",
    "# Параметры для GridSearchCV\n",
    "param_nb = {\n",
    "    'model_nb': [MultinomialNB(), ComplementNB()],  # выбор модели\n",
    "    'model_nb__alpha': [0.1, 0.5, 1.0],             # сглаживание\n",
    "    'tfidf__ngram_range': [(1,1), (1,2)]            # тестируем униграммы и биграммы\n",
    "}\n",
    "\n",
    "# GridSearchCV\n",
    "grid_nb = GridSearchCV(\n",
    "    pipeline_nb,\n",
    "    param_grid=param_nb,\n",
    "    cv=5,\n",
    "    scoring='f1_weighted',  # для многоклассового F1\n",
    "    n_jobs=-1\n",
    ")\n",
    "\n",
    "# Обучение\n",
    "grid_nb.fit(X_train['text'], y_train)\n",
    "\n",
    "# Результаты\n",
    "best_params_nb = grid_nb.best_params_\n",
    "best_score_nb = grid_nb.best_score_\n",
    "\n",
    "# Добавляем в список\n",
    "results.append({\n",
    "    'Model': 'MultinomialNB',\n",
    "    'Best F1-weighted': best_score_nb,\n",
    "    'Best Params': best_params_nb\n",
    "})\n",
    "\n",
    "print(f'\\nЛучшие параметры Naive Bayes: {best_params_nb}')\n",
    "print(f'Лучшая оценка F1-меры: {best_score_nb}')"
   ]
  },
  {
   "cell_type": "code",
   "execution_count": 33,
   "id": "656b00ca-661f-4856-9c24-eeb9673cb59a",
   "metadata": {},
   "outputs": [
    {
     "name": "stderr",
     "output_type": "stream",
     "text": [
      "/Users/lena/opt/anaconda3/anaconda3/lib/python3.13/site-packages/sklearn/svm/_base.py:1249: ConvergenceWarning: Liblinear failed to converge, increase the number of iterations.\n",
      "  warnings.warn(\n"
     ]
    },
    {
     "name": "stdout",
     "output_type": "stream",
     "text": [
      "\n",
      "Лучшие параметры LinearSVC: {'model_svc__C': 0.1, 'model_svc__loss': 'hinge', 'tfidf__ngram_range': (1, 2)}\n",
      "Лучшая оценка F1-меры: 0.5593620618815303\n"
     ]
    }
   ],
   "source": [
    "# Pipeline для LinearSVC\n",
    "pipeline_svc = Pipeline([\n",
    "    ('tfidf', tfidf_vectorizer),   # твой TF-IDF векторизатор\n",
    "    ('model_svc', LinearSVC(random_state=42, max_iter=5000))  # модель\n",
    "])\n",
    "\n",
    "# Параметры для GridSearchCV\n",
    "param_svc = {\n",
    "    'model_svc__C': [0.01, 0.1, 1, 10],        # коэффициент регуляризации\n",
    "    'model_svc__loss': ['hinge', 'squared_hinge'],  # тип функции потерь\n",
    "    'tfidf__ngram_range': [(1,1), (1,2)]       # тестируем униграммы и биграммы\n",
    "}\n",
    "\n",
    "# GridSearchCV\n",
    "grid_svc = GridSearchCV(\n",
    "    pipeline_svc,\n",
    "    param_grid=param_svc,\n",
    "    cv=5,\n",
    "    scoring='f1_weighted',   # для многоклассового F1\n",
    "    n_jobs=-1\n",
    ")\n",
    "\n",
    "# Обучение\n",
    "grid_svc.fit(X_train['text'], y_train)\n",
    "\n",
    "# Результаты\n",
    "best_params_svc = grid_svc.best_params_\n",
    "best_score_svc = grid_svc.best_score_\n",
    "\n",
    "# Добавляем в список\n",
    "results.append({\n",
    "    'Model': 'LinearSVC',\n",
    "    'Best F1-weighted': best_score_svc,\n",
    "    'Best Params': best_params_svc\n",
    "})\n",
    "\n",
    "print(f'\\nЛучшие параметры LinearSVC: {best_params_svc}')\n",
    "print(f'Лучшая оценка F1-меры: {best_score_svc}')\n"
   ]
  },
  {
   "cell_type": "code",
   "execution_count": 34,
   "id": "b8211888-70b6-4d09-83f3-91bd54009c3c",
   "metadata": {},
   "outputs": [
    {
     "name": "stdout",
     "output_type": "stream",
     "text": [
      "\n",
      "Лучшие параметры RidgeClassifier: {'model_ridge__alpha': 1, 'tfidf__ngram_range': (1, 2)}\n",
      "Лучшая оценка F1-меры: 0.5535170769248021\n"
     ]
    }
   ],
   "source": [
    "# Pipeline для RidgeClassifier\n",
    "pipeline_ridge = Pipeline([\n",
    "    ('tfidf', tfidf_vectorizer),            # твой TF-IDF векторизатор\n",
    "    ('model_ridge', RidgeClassifier(random_state=42))  # модель\n",
    "])\n",
    "\n",
    "# Параметры для GridSearchCV\n",
    "param_ridge = {\n",
    "    'model_ridge__alpha': [0.1, 1, 10, 100],  # коэффициент регуляризации\n",
    "    'tfidf__ngram_range': [(1,1), (1,2)]      # тестируем униграммы и биграммы\n",
    "}\n",
    "\n",
    "# GridSearchCV\n",
    "grid_ridge = GridSearchCV(\n",
    "    pipeline_ridge,\n",
    "    param_grid=param_ridge,\n",
    "    cv=5,\n",
    "    scoring='f1_weighted',   # для многоклассового F1\n",
    "    n_jobs=-1\n",
    ")\n",
    "\n",
    "# Обучение\n",
    "grid_ridge.fit(X_train['text'], y_train)\n",
    "\n",
    "# Результаты\n",
    "best_params_ridge = grid_ridge.best_params_\n",
    "best_score_ridge = grid_ridge.best_score_\n",
    "\n",
    "# Добавляем в список\n",
    "results.append({\n",
    "    'Model': 'RidgeClassifier',\n",
    "    'Best F1-weighted': best_score_ridge,\n",
    "    'Best Params': best_params_ridge\n",
    "})\n",
    "\n",
    "print(f'\\nЛучшие параметры RidgeClassifier: {best_params_ridge}')\n",
    "print(f'Лучшая оценка F1-меры: {best_score_ridge}')\n"
   ]
  },
  {
   "cell_type": "code",
   "execution_count": 35,
   "id": "568cbef7-f387-44b0-8745-724609e19d83",
   "metadata": {},
   "outputs": [
    {
     "data": {
      "text/html": [
       "<div>\n",
       "<style scoped>\n",
       "    .dataframe tbody tr th:only-of-type {\n",
       "        vertical-align: middle;\n",
       "    }\n",
       "\n",
       "    .dataframe tbody tr th {\n",
       "        vertical-align: top;\n",
       "    }\n",
       "\n",
       "    .dataframe thead th {\n",
       "        text-align: right;\n",
       "    }\n",
       "</style>\n",
       "<table border=\"1\" class=\"dataframe\">\n",
       "  <thead>\n",
       "    <tr style=\"text-align: right;\">\n",
       "      <th></th>\n",
       "      <th>Model</th>\n",
       "      <th>Best F1-weighted</th>\n",
       "      <th>Best Params</th>\n",
       "    </tr>\n",
       "  </thead>\n",
       "  <tbody>\n",
       "    <tr>\n",
       "      <th>0</th>\n",
       "      <td>LogisticRegression</td>\n",
       "      <td>0.552759</td>\n",
       "      <td>{'model__C': 1, 'model__fit_intercept': True, ...</td>\n",
       "    </tr>\n",
       "    <tr>\n",
       "      <th>1</th>\n",
       "      <td>MultinomialNB</td>\n",
       "      <td>0.552081</td>\n",
       "      <td>{'model_nb': ComplementNB(), 'model_nb__alpha'...</td>\n",
       "    </tr>\n",
       "    <tr>\n",
       "      <th>2</th>\n",
       "      <td>LinearSVC</td>\n",
       "      <td>0.559362</td>\n",
       "      <td>{'model_svc__C': 0.1, 'model_svc__loss': 'hing...</td>\n",
       "    </tr>\n",
       "    <tr>\n",
       "      <th>3</th>\n",
       "      <td>RidgeClassifier</td>\n",
       "      <td>0.553517</td>\n",
       "      <td>{'model_ridge__alpha': 1, 'tfidf__ngram_range'...</td>\n",
       "    </tr>\n",
       "  </tbody>\n",
       "</table>\n",
       "</div>"
      ],
      "text/plain": [
       "                Model  Best F1-weighted  \\\n",
       "0  LogisticRegression          0.552759   \n",
       "1       MultinomialNB          0.552081   \n",
       "2           LinearSVC          0.559362   \n",
       "3     RidgeClassifier          0.553517   \n",
       "\n",
       "                                         Best Params  \n",
       "0  {'model__C': 1, 'model__fit_intercept': True, ...  \n",
       "1  {'model_nb': ComplementNB(), 'model_nb__alpha'...  \n",
       "2  {'model_svc__C': 0.1, 'model_svc__loss': 'hing...  \n",
       "3  {'model_ridge__alpha': 1, 'tfidf__ngram_range'...  "
      ]
     },
     "metadata": {},
     "output_type": "display_data"
    }
   ],
   "source": [
    "# Создаем DataFrame и выводим\n",
    "results_data = pd.DataFrame(results)\n",
    "display(results_data)"
   ]
  },
  {
   "cell_type": "code",
   "execution_count": 38,
   "id": "f2897910-b810-4c49-8427-7ac44843c69c",
   "metadata": {},
   "outputs": [
    {
     "name": "stdout",
     "output_type": "stream",
     "text": [
      "F1 (weighted) на тестовой выборке: 0.5423\n",
      "Precision (weighted) на тестовой выборке: 0.5422\n",
      "Recall (weighted) на тестовой выборке: 0.5427\n",
      "\n",
      "Classification Report:\n",
      "              precision    recall  f1-score   support\n",
      "\n",
      "    negative       0.53      0.55      0.54       493\n",
      "     neutral       0.58      0.60      0.59       458\n",
      "    positive       0.52      0.49      0.50       488\n",
      "\n",
      "    accuracy                           0.54      1439\n",
      "   macro avg       0.54      0.54      0.54      1439\n",
      "weighted avg       0.54      0.54      0.54      1439\n",
      "\n",
      "Confusion Matrix:\n",
      "[[269  95 129]\n",
      " [ 92 273  93]\n",
      " [150  99 239]]\n"
     ]
    },
    {
     "data": {
      "image/png": "[encoded data removed]",
      "text/plain": [
       "<Figure size 640x480 with 2 Axes>"
      ]
     },
     "metadata": {},
     "output_type": "display_data"
    }
   ],
   "source": [
    "from sklearn.metrics import f1_score, precision_score, recall_score, classification_report, confusion_matrix\n",
    "import matplotlib.pyplot as plt\n",
    "from sklearn.metrics import confusion_matrix, ConfusionMatrixDisplay\n",
    "\n",
    "# Обучим модель с лучшими гиперпараметрами\n",
    "best_model = grid_svc.best_estimator_\n",
    "\n",
    "# Предскажем на тестовой выборке\n",
    "y_pred = best_model.predict(X_test['text'])\n",
    "\n",
    "# Расчет метрик для многоклассового случая\n",
    "f1_best_model = f1_score(y_test, y_pred, average='weighted')\n",
    "precision_best_model = precision_score(y_test, y_pred, average='weighted')\n",
    "recall_best_model = recall_score(y_test, y_pred, average='weighted')\n",
    "\n",
    "print(f'F1 (weighted) на тестовой выборке: {f1_best_model:.4f}')\n",
    "print(f'Precision (weighted) на тестовой выборке: {precision_best_model:.4f}')\n",
    "print(f'Recall (weighted) на тестовой выборке: {recall_best_model:.4f}')\n",
    "\n",
    "# Полный отчет и матрица ошибок\n",
    "print(\"\\nClassification Report:\")\n",
    "print(classification_report(y_test, y_pred))\n",
    "\n",
    "print(\"Confusion Matrix:\")\n",
    "print(confusion_matrix(y_test, y_pred))\n",
    "\n",
    "# Создаем матрицу ошибок\n",
    "cm = confusion_matrix(y_test, y_pred, labels=['negative', 'neutral', 'positive'])\n",
    "\n",
    "# Визуализация через sklearn\n",
    "disp = ConfusionMatrixDisplay(confusion_matrix=cm, display_labels=['negative', 'neutral', 'positive'])\n",
    "disp.plot(cmap=plt.cm.Blues)\n",
    "plt.title(\"Confusion Matrix\")\n",
    "plt.show()"
   ]
  },
  {
   "cell_type": "code",
   "execution_count": null,
   "id": "5c76c2f1-c376-4bb7-846a-4617adfd51d5",
   "metadata": {},
   "outputs": [],
   "source": []
  }
 ],
 "metadata": {
  "kernelspec": {
   "display_name": "Python [conda env:base] *",
   "language": "python",
   "name": "conda-base-py"
  },
  "language_info": {
   "codemirror_mode": {
    "name": "ipython",
    "version": 3
   },
   "file_extension": ".py",
   "mimetype": "text/x-python",
   "name": "python",
   "nbconvert_exporter": "python",
   "pygments_lexer": "ipython3",
   "version": "3.13.5"
  }
 },
 "nbformat": 4,
 "nbformat_minor": 5
}
