{
 "cells": [
  {
   "cell_type": "markdown",
   "id": "e93b2baa-9fdf-4401-948c-def7f6dadb75",
   "metadata": {},
   "source": [
    "# Классификация тональности комментариев"
   ]
  },
  {
   "cell_type": "markdown",
   "id": "7dcad1b9-8ccd-4455-8456-362bee7f37cb",
   "metadata": {},
   "source": [
    "## Загрузка библиотек и файлов"
   ]
  },
  {
   "cell_type": "code",
   "execution_count": 1,
   "id": "3e929c4e-a0b9-4f46-b069-7729a7db0b4f",
   "metadata": {},
   "outputs": [],
   "source": [
    "import re\n",
    "import numpy as np\n",
    "import pandas as pd\n",
    "import matplotlib.pyplot as plt\n",
    "import seaborn as sns\n",
    "\n",
    "import nltk, spacy\n",
    "from nltk.corpus import stopwords\n",
    "from tqdm import tqdm\n",
    "\n",
    "from sklearn.feature_extraction.text import TfidfVectorizer\n",
    "from sklearn.preprocessing import FunctionTransformer\n",
    "from sklearn.compose import ColumnTransformer\n",
    "from sklearn.model_selection import train_test_split, cross_val_score, GridSearchCV\n",
    "from sklearn.metrics import (\n",
    "    f1_score, precision_score, recall_score, classification_report, confusion_matrix,\n",
    "    ConfusionMatrixDisplay, precision_recall_curve, average_precision_score,\n",
    "    PrecisionRecallDisplay, roc_curve, RocCurveDisplay, auc\n",
    ")\n",
    "from sklearn.utils.class_weight import compute_sample_weight\n",
    "from sklearn.pipeline import Pipeline\n",
    "\n",
    "from imblearn.over_sampling import SMOTE\n",
    "from imblearn.pipeline import Pipeline as ImbPipeline\n",
    "\n",
    "from sklearn.linear_model import LogisticRegression, RidgeClassifier\n",
    "from sklearn.svm import LinearSVC\n",
    "from sklearn.naive_bayes import ComplementNB\n",
    "from catboost import CatBoostClassifier\n",
    "from sklearn.dummy import DummyClassifier\n",
    "\n",
    "import requests\n",
    "from fastapi import FastAPI\n",
    "from pydantic import BaseModel\n",
    "import pickle\n",
    "\n",
    "import warnings\n",
    "warnings.filterwarnings('ignore')"
   ]
  },
  {
   "cell_type": "code",
   "execution_count": 2,
   "id": "4577bce6-16de-4c7d-ad44-cb7fbfeac1ff",
   "metadata": {},
   "outputs": [
    {
     "data": {
      "text/html": [
       "<div>\n",
       "<style scoped>\n",
       "    .dataframe tbody tr th:only-of-type {\n",
       "        vertical-align: middle;\n",
       "    }\n",
       "\n",
       "    .dataframe tbody tr th {\n",
       "        vertical-align: top;\n",
       "    }\n",
       "\n",
       "    .dataframe thead th {\n",
       "        text-align: right;\n",
       "    }\n",
       "</style>\n",
       "<table border=\"1\" class=\"dataframe\">\n",
       "  <thead>\n",
       "    <tr style=\"text-align: right;\">\n",
       "      <th></th>\n",
       "      <th>text</th>\n",
       "      <th>label</th>\n",
       "    </tr>\n",
       "  </thead>\n",
       "  <tbody>\n",
       "    <tr>\n",
       "      <th>0</th>\n",
       "      <td>.... ведь одна из этих дорог ведёт в ваше серд...</td>\n",
       "      <td>neutral</td>\n",
       "    </tr>\n",
       "    <tr>\n",
       "      <th>1</th>\n",
       "      <td>…лучше в ВК, я редко захожу…</td>\n",
       "      <td>neutral</td>\n",
       "    </tr>\n",
       "    <tr>\n",
       "      <th>2</th>\n",
       "      <td>\"- Мама, купи Seti! - У нас есть Сети дома. Се...</td>\n",
       "      <td>neutral</td>\n",
       "    </tr>\n",
       "    <tr>\n",
       "      <th>3</th>\n",
       "      <td>\"— Знаешь, откуда эти шрамы?©\"</td>\n",
       "      <td>neutral</td>\n",
       "    </tr>\n",
       "    <tr>\n",
       "      <th>4</th>\n",
       "      <td>\"\"\" Kinfire — к сожалению, сдвигается на февра...</td>\n",
       "      <td>negative</td>\n",
       "    </tr>\n",
       "    <tr>\n",
       "      <th>...</th>\n",
       "      <td>...</td>\n",
       "      <td>...</td>\n",
       "    </tr>\n",
       "    <tr>\n",
       "      <th>2216</th>\n",
       "      <td>Я удалила приложение вайлдберриз после несколь...</td>\n",
       "      <td>negative</td>\n",
       "    </tr>\n",
       "    <tr>\n",
       "      <th>2217</th>\n",
       "      <td>Я уж думал не дождёмся! 😱</td>\n",
       "      <td>negative</td>\n",
       "    </tr>\n",
       "    <tr>\n",
       "      <th>2218</th>\n",
       "      <td>Я что-то пропустил, а коробки Ascension Tactic...</td>\n",
       "      <td>neutral</td>\n",
       "    </tr>\n",
       "    <tr>\n",
       "      <th>2219</th>\n",
       "      <td>я чуть себе усложнил)</td>\n",
       "      <td>neutral</td>\n",
       "    </tr>\n",
       "    <tr>\n",
       "      <th>2220</th>\n",
       "      <td>Явно видно, что боссов мало. Есть ли информаци...</td>\n",
       "      <td>neutral</td>\n",
       "    </tr>\n",
       "  </tbody>\n",
       "</table>\n",
       "<p>2221 rows × 2 columns</p>\n",
       "</div>"
      ],
      "text/plain": [
       "                                                   text     label\n",
       "0     .... ведь одна из этих дорог ведёт в ваше серд...   neutral\n",
       "1                          …лучше в ВК, я редко захожу…   neutral\n",
       "2     \"- Мама, купи Seti! - У нас есть Сети дома. Се...   neutral\n",
       "3                        \"— Знаешь, откуда эти шрамы?©\"   neutral\n",
       "4     \"\"\" Kinfire — к сожалению, сдвигается на февра...  negative\n",
       "...                                                 ...       ...\n",
       "2216  Я удалила приложение вайлдберриз после несколь...  negative\n",
       "2217                          Я уж думал не дождёмся! 😱  negative\n",
       "2218  Я что-то пропустил, а коробки Ascension Tactic...   neutral\n",
       "2219                              я чуть себе усложнил)   neutral\n",
       "2220  Явно видно, что боссов мало. Есть ли информаци...   neutral\n",
       "\n",
       "[2221 rows x 2 columns]"
      ]
     },
     "execution_count": 2,
     "metadata": {},
     "output_type": "execute_result"
    }
   ],
   "source": [
    "# Загрузим файл с комментариями из группы Vkontakte\n",
    "data = pd.read_csv('/Users/lena/Comment Sentiment Classification/vk_comments_data.csv')\n",
    "data"
   ]
  },
  {
   "cell_type": "markdown",
   "id": "1d4acb2e-fcd9-4a69-b272-75c9073142b8",
   "metadata": {},
   "source": [
    "## Предобработка и исследовательский анализ данных"
   ]
  },
  {
   "cell_type": "code",
   "execution_count": 3,
   "id": "edc085a9-b6e3-46a5-b94d-600700de6cb3",
   "metadata": {},
   "outputs": [
    {
     "name": "stdout",
     "output_type": "stream",
     "text": [
      "<class 'pandas.core.frame.DataFrame'>\n",
      "RangeIndex: 2221 entries, 0 to 2220\n",
      "Data columns (total 2 columns):\n",
      " #   Column  Non-Null Count  Dtype \n",
      "---  ------  --------------  ----- \n",
      " 0   text    2221 non-null   object\n",
      " 1   label   2221 non-null   object\n",
      "dtypes: object(2)\n",
      "memory usage: 34.8+ KB\n"
     ]
    }
   ],
   "source": [
    "# Посмотрим информацию о файле\n",
    "data.info()"
   ]
  },
  {
   "cell_type": "markdown",
   "id": "467ec9d2-2b85-425b-8521-4a687ea068e9",
   "metadata": {},
   "source": [
    "Датасет содержит 2 колонки и 2221 комментарий \n",
    "\n",
    "- text - текст комментария\n",
    "- label - тональность комментария (neutral, positive, negative)"
   ]
  },
  {
   "cell_type": "code",
   "execution_count": 4,
   "id": "8a115eb6-0e91-45b2-97ba-eddd4883fe53",
   "metadata": {},
   "outputs": [
    {
     "data": {
      "text/plain": [
       "np.int64(10)"
      ]
     },
     "execution_count": 4,
     "metadata": {},
     "output_type": "execute_result"
    }
   ],
   "source": [
    "# Проверим датасет на явные дубли\n",
    "data.duplicated().sum()"
   ]
  },
  {
   "cell_type": "code",
   "execution_count": 5,
   "id": "2aedfb86-e2e9-4094-bb50-2828a331abb9",
   "metadata": {},
   "outputs": [],
   "source": [
    "# Удалим явные дубли\n",
    "data = data.drop_duplicates()"
   ]
  },
  {
   "cell_type": "code",
   "execution_count": 6,
   "id": "5c1b527a-2a25-4c55-8f7a-5200d659624d",
   "metadata": {},
   "outputs": [
    {
     "data": {
      "text/plain": [
       "<Axes: xlabel='label', ylabel='count'>"
      ]
     },
     "execution_count": 6,
     "metadata": {},
     "output_type": "execute_result"
    },
    {
     "data": {
      "image/png": "[encoded data removed]",
      "text/plain": [
       "<Figure size 640x480 with 1 Axes>"
      ]
     },
     "metadata": {},
     "output_type": "display_data"
    }
   ],
   "source": [
    "# Проверим баланс целевой переменной 'label'\n",
    "sns.countplot(data=data, x = 'label')"
   ]
  },
  {
   "cell_type": "code",
   "execution_count": 7,
   "id": "0e91201b-a300-4d01-b103-0df9d0d133d1",
   "metadata": {},
   "outputs": [
    {
     "data": {
      "text/plain": [
       "label\n",
       "neutral     1479\n",
       "positive     426\n",
       "negative     306\n",
       "Name: count, dtype: int64"
      ]
     },
     "execution_count": 7,
     "metadata": {},
     "output_type": "execute_result"
    }
   ],
   "source": [
    "data['label'].value_counts()"
   ]
  },
  {
   "cell_type": "markdown",
   "id": "3ae772bc-5be8-40b2-ac2f-32351308ae4d",
   "metadata": {},
   "source": [
    "В целевой переменной label наблюдается дисбаланс классов: нейтральных комментариев значительно больше (1479), чем позитивных (426) и негативных (306).\n",
    "\n",
    "Этот дисбаланс необходимо учесть при обучении моделей."
   ]
  },
  {
   "cell_type": "markdown",
   "id": "b61a1608-57a5-4262-9231-fb5ddacaeade",
   "metadata": {},
   "source": [
    "### Предобработке текстовых данных"
   ]
  },
  {
   "cell_type": "markdown",
   "id": "3ea3cb9a-44f0-4f4e-871f-8fec5a5476a7",
   "metadata": {},
   "source": [
    "**Перейдем к предобработке текстовых данных - столбец 'text'.**\n",
    "\n",
    "* Очистим текст. Удалим специальные символы, цифры и пр., которые не являются буквами.\n",
    "\n",
    "* Проведем лемматизацию, то есть приведем слова к их базовой форме (лемме). Это поможет уменьшить размерность и учесть различные формы слова.\n",
    "\n",
    "* Удалим стоп-слова (russian), которые обычно не несут смысловой нагрузки (напримпер, союзы, предлоги).\n",
    "\n",
    "* Учтем части речи (существительные, глаголы, прилагательные и наречия). Лемматизация с учетом частей речи может улучшить качество предобработки, учитывая контекст использования слов.\n",
    "\n",
    "Напишем для каждого шага отдельные функции и применим к столбцу 'text'"
   ]
  },
  {
   "cell_type": "code",
   "execution_count": 8,
   "id": "206e204e-1b3b-406b-8e22-cf8c0c238476",
   "metadata": {},
   "outputs": [
    {
     "name": "stderr",
     "output_type": "stream",
     "text": [
      "[nltk_data] Downloading package stopwords to /Users/lena/nltk_data...\n",
      "[nltk_data]   Package stopwords is already up-to-date!\n"
     ]
    }
   ],
   "source": [
    "# Скачиваем стоп-слова для русского языка\n",
    "nltk.download('stopwords')\n",
    "russian_stopwords = set(stopwords.words('russian'))\n",
    "\n",
    "# Загружаем русскую модель spaCy\n",
    "nlp = spacy.load('ru_core_news_sm', disable=['parser', 'ner'])"
   ]
  },
  {
   "cell_type": "code",
   "execution_count": 9,
   "id": "f2d6ca8d-4407-4295-a4ea-e7ecb51ae713",
   "metadata": {},
   "outputs": [],
   "source": [
    "# Очищаем текст от лишних символов\n",
    "def clean_text(text):\n",
    "    text = text.lower()  # Приведение к нижнему регистру\n",
    "    text = re.sub(r'[^а-яёa-z0-9\\s]', ' ', text)  # Удаление всех символов, кроме букв\n",
    "    return text"
   ]
  },
  {
   "cell_type": "code",
   "execution_count": 10,
   "id": "28589ae6-2e7e-4065-8fa5-452cf341549c",
   "metadata": {},
   "outputs": [
    {
     "name": "stdout",
     "output_type": "stream",
     "text": [
      "Мможете посмотреть на The Voynich Puzzle? - мможете посмотреть\n",
      "Игра отличная, спасибо большое! - игра отличный спасибо большой\n",
      "А рассрочка где? - рассрочка где\n",
      "Цены грабительские! - цена грабительский\n",
      "Быстро доставили, всё понравилось 👍 - быстро доставить понравиться\n"
     ]
    }
   ],
   "source": [
    "# Проводим лемматизация с учетом частей речи (для русского языка)\n",
    "def lemmatize_with_pos(text):\n",
    "    doc = nlp(text.lower())\n",
    "    lemmatized_text = []\n",
    "    for token in doc:\n",
    "        if token.pos_ in ['NOUN', 'VERB', 'ADJ', 'ADV']:  \n",
    "            lemmatized_text.append(token.lemma_)\n",
    "    return ' '.join(lemmatized_text)\n",
    "\n",
    "\n",
    "# Пример\n",
    "examples = [\n",
    "    'Мможете посмотреть на The Voynich Puzzle?',\n",
    "    'Игра отличная, спасибо большое!',\n",
    "    'А рассрочка где?',\n",
    "    'Цены грабительские!',\n",
    "    'Быстро доставили, всё понравилось 👍'\n",
    "]\n",
    "\n",
    "for ex in examples:\n",
    "    print(ex, '-', lemmatize_with_pos(ex))"
   ]
  },
  {
   "cell_type": "code",
   "execution_count": 11,
   "id": "0adbea26-02fa-4b48-8741-69dabbbe2f23",
   "metadata": {},
   "outputs": [],
   "source": [
    "# Удалим стоп-слова\n",
    "def remove_stopwords(text):\n",
    "    return ' '.join([word for word in text.split() if word not in russian_stopwords])"
   ]
  },
  {
   "cell_type": "code",
   "execution_count": 12,
   "id": "5ab07cae-6761-4eef-81e4-ac058d5b986e",
   "metadata": {},
   "outputs": [
    {
     "name": "stdout",
     "output_type": "stream",
     "text": [
      "Можете посмотреть на The Voynich Puzzle? - мочь посмотреть\n",
      "Игра отличная, спасибо большое! - игра отличный спасибо большой\n",
      "А рассрочка где? - рассрочка\n",
      "Цены грабительские! - цена грабительский\n",
      "Быстро доставили, всё понравилось 👍 - быстро доставить понравиться\n"
     ]
    }
   ],
   "source": [
    "# Соберем все функции вместе\n",
    "\n",
    "def preprocess_text(text, remove_stops=True):\n",
    "    cleaned_text = clean_text(text)\n",
    "    lemmatized_text = lemmatize_with_pos(cleaned_text)\n",
    "    if remove_stops:\n",
    "        final_text = remove_stopwords(lemmatized_text)\n",
    "    else:\n",
    "        final_text = lemmatized_text\n",
    "    return final_text\n",
    "\n",
    "# Пример\n",
    "examples = [\n",
    "    'Можете посмотреть на The Voynich Puzzle?',\n",
    "    'Игра отличная, спасибо большое!',\n",
    "    'А рассрочка где?',\n",
    "    'Цены грабительские!',\n",
    "    'Быстро доставили, всё понравилось 👍'\n",
    "]\n",
    "\n",
    "for ex in examples:\n",
    "    print(ex, '-', preprocess_text(ex))"
   ]
  },
  {
   "cell_type": "code",
   "execution_count": 13,
   "id": "d68db78f-89e4-4930-90cd-da11c2593428",
   "metadata": {},
   "outputs": [
    {
     "name": "stderr",
     "output_type": "stream",
     "text": [
      "100%|██████████████████████████████████████| 2211/2211 [00:17<00:00, 129.45it/s]\n"
     ]
    }
   ],
   "source": [
    "# Подключаем прогресс-бар\n",
    "tqdm.pandas()\n",
    "\n",
    "# Применяем функцию предобработки к каждому тексту\n",
    "data['text'] = data['text'].progress_apply(preprocess_text)"
   ]
  },
  {
   "cell_type": "code",
   "execution_count": 14,
   "id": "080cb492-2237-49c1-a242-a904ebff8298",
   "metadata": {},
   "outputs": [
    {
     "data": {
      "text/html": [
       "<div>\n",
       "<style scoped>\n",
       "    .dataframe tbody tr th:only-of-type {\n",
       "        vertical-align: middle;\n",
       "    }\n",
       "\n",
       "    .dataframe tbody tr th {\n",
       "        vertical-align: top;\n",
       "    }\n",
       "\n",
       "    .dataframe thead th {\n",
       "        text-align: right;\n",
       "    }\n",
       "</style>\n",
       "<table border=\"1\" class=\"dataframe\">\n",
       "  <thead>\n",
       "    <tr style=\"text-align: right;\">\n",
       "      <th></th>\n",
       "      <th>text</th>\n",
       "      <th>label</th>\n",
       "    </tr>\n",
       "  </thead>\n",
       "  <tbody>\n",
       "    <tr>\n",
       "      <th>0</th>\n",
       "      <td>дорога ведёт сердечко</td>\n",
       "      <td>neutral</td>\n",
       "    </tr>\n",
       "    <tr>\n",
       "      <th>1</th>\n",
       "      <td>хороший редко заходить</td>\n",
       "      <td>neutral</td>\n",
       "    </tr>\n",
       "    <tr>\n",
       "      <th>2</th>\n",
       "      <td>мама купи сеть дом сеть дом</td>\n",
       "      <td>neutral</td>\n",
       "    </tr>\n",
       "    <tr>\n",
       "      <th>3</th>\n",
       "      <td>знать откуда шрамы</td>\n",
       "      <td>neutral</td>\n",
       "    </tr>\n",
       "    <tr>\n",
       "      <th>4</th>\n",
       "      <td>сожаление сдвигаться февраль очень плохо спасибо</td>\n",
       "      <td>negative</td>\n",
       "    </tr>\n",
       "  </tbody>\n",
       "</table>\n",
       "</div>"
      ],
      "text/plain": [
       "                                               text     label\n",
       "0                             дорога ведёт сердечко   neutral\n",
       "1                            хороший редко заходить   neutral\n",
       "2                       мама купи сеть дом сеть дом   neutral\n",
       "3                                знать откуда шрамы   neutral\n",
       "4  сожаление сдвигаться февраль очень плохо спасибо  negative"
      ]
     },
     "execution_count": 14,
     "metadata": {},
     "output_type": "execute_result"
    }
   ],
   "source": [
    "# Проверяем результат предобработки\n",
    "data.head()"
   ]
  },
  {
   "cell_type": "code",
   "execution_count": 15,
   "id": "5b2e62b4-7a99-45e1-8bb5-6c20fde58f4f",
   "metadata": {},
   "outputs": [
    {
     "data": {
      "text/plain": [
       "np.int64(144)"
      ]
     },
     "execution_count": 15,
     "metadata": {},
     "output_type": "execute_result"
    }
   ],
   "source": [
    "# Еще раз проверим датасет на явные дубликаты\n",
    "data.duplicated().sum()"
   ]
  },
  {
   "cell_type": "code",
   "execution_count": 16,
   "id": "efddf65e-638d-4762-b00b-47d18e5877f5",
   "metadata": {},
   "outputs": [],
   "source": [
    "# Удалим явные дубли\n",
    "data = data.drop_duplicates()"
   ]
  },
  {
   "cell_type": "code",
   "execution_count": 17,
   "id": "f513f019-ed23-4936-9bd5-61a95775e2f3",
   "metadata": {},
   "outputs": [
    {
     "name": "stdout",
     "output_type": "stream",
     "text": [
      "<class 'pandas.core.frame.DataFrame'>\n",
      "Index: 2067 entries, 0 to 2220\n",
      "Data columns (total 2 columns):\n",
      " #   Column  Non-Null Count  Dtype \n",
      "---  ------  --------------  ----- \n",
      " 0   text    2067 non-null   object\n",
      " 1   label   2067 non-null   object\n",
      "dtypes: object(2)\n",
      "memory usage: 48.4+ KB\n"
     ]
    }
   ],
   "source": [
    "# Итоговый датасет\n",
    "data.info()"
   ]
  },
  {
   "cell_type": "markdown",
   "id": "5a421846-691e-4dcb-abca-623661522fd8",
   "metadata": {},
   "source": [
    "После предобработки в датасете осталось 2067 строк."
   ]
  },
  {
   "cell_type": "markdown",
   "id": "28505ee3-8fac-434d-9dba-26411dc20c0f",
   "metadata": {},
   "source": [
    "Разделим данные на обучающую и тестовую выборки"
   ]
  },
  {
   "cell_type": "code",
   "execution_count": 18,
   "id": "d33a1614-cc7d-4aa0-9b33-bc95c7700b1c",
   "metadata": {},
   "outputs": [],
   "source": [
    "X = data.drop('label', axis=1)\n",
    "y = data['label']"
   ]
  },
  {
   "cell_type": "code",
   "execution_count": 19,
   "id": "a3e49fdb-d88e-4250-8cf4-5960c7dcadfb",
   "metadata": {},
   "outputs": [
    {
     "name": "stdout",
     "output_type": "stream",
     "text": [
      "(1653, 1) (414, 1) (1653,) (414,)\n"
     ]
    }
   ],
   "source": [
    "# Разделим данные на обучающую и тестовую выборки с сохранением баланса классов\n",
    "X_train, X_test, y_train, y_test = train_test_split(\n",
    "    X, y, \n",
    "    test_size=0.2, \n",
    "    random_state=0,\n",
    "    stratify=y  # сохраняем соотношение классов\n",
    ")\n",
    "\n",
    "print(X_train.shape, X_test.shape, y_train.shape, y_test.shape)"
   ]
  },
  {
   "cell_type": "markdown",
   "id": "dd902124-ecad-49f4-a9ef-39a552f6b06e",
   "metadata": {},
   "source": [
    "### Вывод"
   ]
  },
  {
   "cell_type": "markdown",
   "id": "c62ee602-ed67-4dff-b2cb-bc4bd35f25e3",
   "metadata": {},
   "source": [
    "На этапе предобработки и исследовательского анализа:\n",
    "\n",
    "* Проверили данные на пропуски и явные дубликаты\n",
    "\n",
    "* Обработали текстовые данные в столбеце 'text':\n",
    "\n",
    "    * Очистили текст от специальных символов, цифр и пр.\n",
    "    * Привели слова к их базовой форме (лемме).\n",
    "    * Учли части речи (существительные, глаголы, прилагательные и наречия).\n",
    "\n",
    "* Разделили данные на тренировочную и тестовую выборки"
   ]
  },
  {
   "cell_type": "markdown",
   "id": "6fa18ef2-0dc8-4b1e-97ab-efab80b520cc",
   "metadata": {},
   "source": [
    "## Обучение моделей с использованием Pipeline и GridSearchCV"
   ]
  },
  {
   "cell_type": "markdown",
   "id": "8d9354a1-0daf-4af9-9967-548bbe2a7e5c",
   "metadata": {},
   "source": [
    "Предстоит решить задачу **многоклассовой классификации**: определить тональность комментариев пользователей на три категории: neutral, positive и negative.\n",
    "\n",
    "**Цель**:\n",
    "Разработать модель, способную корректно классифицировать комментарии, учитывая дисбаланс классов и различную частотность позитивных, негативных и нейтральных сообщений.\n",
    "\n",
    "**Особенности данных**:\n",
    "\n",
    "- Наблюдается дисбаланс классов: нейтральных комментариев значительно больше, чем позитивных и негативных.\n",
    "\n",
    "- Данные представлены текстовыми комментариями, которые необходимо преобразовать в числовой формат для обучения моделей.\n",
    "\n",
    "**Оценка качества моделей**:\n",
    "\n",
    "Для оценки качества моделей предлагается использовать метрику **F1-macro**, которая учитывает производительность классификатора по всем классам равномерно, независимо от их частоты.\n",
    "\n",
    "F1-macro вычисляется по каждому классу отдельно, затем берётся среднее арифметическое, без учёта количества объектов в классе. F1-macro даст одинаковый вес каждому классу, что важно при дисбалансе, чтобы маленькие классы (positive, negative) не терялись в оценке.\n",
    "\n",
    "Для решения задачи обучим на тренировочной выборке несколько моделей машинного обучения:\n",
    "\n",
    "* LogisticRegression\n",
    "* ComplementNB\n",
    "* LinearSVC\n",
    "* RidgeClassifier\n",
    "* CatBoostClassifier"
   ]
  },
  {
   "cell_type": "markdown",
   "id": "7fbd5b66-b10d-4a4e-9924-48939ac3125e",
   "metadata": {},
   "source": [
    "Для работы с текстовыми комментариями и дисбалансом классов используются два подхода:\n",
    "\n",
    "- Использование **ImbPipeline** с **SMOTE**:\n",
    "\n",
    "\n",
    "В этом пайплайне текстовые данные преобразуются с помощью TF-IDF (TfidfVectorizer), затем полученная разреженная матрица конвертируется в плотный формат (FunctionTransformer), и после этого применяется SMOTE для синтетического увеличения количества примеров в меньших классах. Это позволяет моделям обучаться на сбалансированных данных.\n",
    "\n",
    "- Использование обычного **Pipeline** с **весами для классов**:\n",
    "  \n",
    "В этом подходе текстовые данные также преобразуются с помощью TF-IDF, но дисбаланс учитывается через веса для каждого примера (**compute_sample_weight**). Такие веса передаются непосредственно модели на этапе обучения."
   ]
  },
  {
   "cell_type": "code",
   "execution_count": 20,
   "id": "7b018aaa-f076-4f93-95e3-056e460065ac",
   "metadata": {},
   "outputs": [],
   "source": [
    "# Список для сбора результатов\n",
    "results = []"
   ]
  },
  {
   "cell_type": "code",
   "execution_count": 21,
   "id": "78836eba-b5fe-4fb2-94cf-9adc98afabb1",
   "metadata": {},
   "outputs": [],
   "source": [
    "def to_dense(x):\n",
    "    return np.asarray(x.todense())"
   ]
  },
  {
   "cell_type": "markdown",
   "id": "50fd75ff-1e25-4c06-bfbe-f4cea7ed6767",
   "metadata": {},
   "source": [
    "### LogisticRegression"
   ]
  },
  {
   "cell_type": "markdown",
   "id": "d9bc8a4e-9991-40ff-9f9b-420e88d5f025",
   "metadata": {},
   "source": [
    "**LogisticRegression**\n",
    "\n",
    "- Простая и интерпретируемая модель.\n",
    "- Хорошо работает для текстовых данных с TF-IDF признаками.\n",
    "- Подходит для многоклассовой классификации через стратегию one-vs-rest"
   ]
  },
  {
   "cell_type": "code",
   "execution_count": 22,
   "id": "33d6ad76-9e6f-4c75-b939-0cfb36a4e971",
   "metadata": {},
   "outputs": [
    {
     "name": "stdout",
     "output_type": "stream",
     "text": [
      "Fitting 5 folds for each of 8 candidates, totalling 40 fits\n"
     ]
    },
    {
     "name": "stderr",
     "output_type": "stream",
     "text": [
      "/Users/lena/opt/anaconda3/anaconda3/lib/python3.13/site-packages/sklearn/svm/_base.py:1249: ConvergenceWarning: Liblinear failed to converge, increase the number of iterations.\n",
      "  warnings.warn(\n",
      "/Users/lena/opt/anaconda3/anaconda3/lib/python3.13/site-packages/sklearn/svm/_base.py:1249: ConvergenceWarning: Liblinear failed to converge, increase the number of iterations.\n",
      "  warnings.warn(\n",
      "/Users/lena/opt/anaconda3/anaconda3/lib/python3.13/site-packages/sklearn/svm/_base.py:1249: ConvergenceWarning: Liblinear failed to converge, increase the number of iterations.\n",
      "  warnings.warn(\n",
      "/Users/lena/opt/anaconda3/anaconda3/lib/python3.13/site-packages/sklearn/svm/_base.py:1249: ConvergenceWarning: Liblinear failed to converge, increase the number of iterations.\n",
      "  warnings.warn(\n"
     ]
    },
    {
     "name": "stdout",
     "output_type": "stream",
     "text": [
      "Лучшие параметры LR+SMOTE: {'clf__C': 1, 'clf__penalty': 'l1'}\n",
      "Лучшая F1-макро на кросс-валидации LR+SMOTE: 0.6124\n"
     ]
    }
   ],
   "source": [
    "# Pipeline\n",
    "lr_smote_pipeline = ImbPipeline([\n",
    "    ('tfidf', TfidfVectorizer()),\n",
    "    ('to_dense', FunctionTransformer(to_dense, accept_sparse=True)),\n",
    "    ('smote', SMOTE(random_state=42)),\n",
    "    ('clf', LogisticRegression(solver='liblinear', max_iter=2000))\n",
    "])\n",
    "\n",
    "# Параметры для GridSearchCV\n",
    "lr_smote_param_grid = {\n",
    "    'clf__penalty': ['l1', 'l2'],\n",
    "    'clf__C': [0.01, 0.1, 1, 10]\n",
    "}\n",
    "\n",
    "# GridSearchCV\n",
    "lr_smote_grid = GridSearchCV(\n",
    "    lr_smote_pipeline,\n",
    "    param_grid=lr_smote_param_grid,\n",
    "    cv=5,\n",
    "    scoring='f1_macro',\n",
    "    n_jobs=-1,\n",
    "    verbose=1,\n",
    "    error_score='raise'\n",
    ")\n",
    "\n",
    "# Обучение\n",
    "lr_smote_grid.fit(X_train['text'], y_train)\n",
    "\n",
    "# Сохранение результатов\n",
    "lr_smote_best_params = lr_smote_grid.best_params_\n",
    "lr_smote_best_score = lr_smote_grid.best_score_\n",
    "\n",
    "results.append({\n",
    "    'Model': 'LogisticRegression',\n",
    "    'Best F1-macro (CV)': lr_smote_best_score,\n",
    "    'Best Params': lr_smote_best_params\n",
    "})\n",
    "\n",
    "print(f\"Лучшие параметры LR+SMOTE: {lr_smote_best_params}\")\n",
    "print(f\"Лучшая F1-макро на кросс-валидации LR+SMOTE: {lr_smote_best_score:.4f}\")"
   ]
  },
  {
   "cell_type": "markdown",
   "id": "da6a7c33-8fc1-4e11-a9c8-5a6744bfe380",
   "metadata": {},
   "source": [
    "### ComplementNB"
   ]
  },
  {
   "cell_type": "markdown",
   "id": "9dc6db44-8a6f-441e-a3ae-a70cbddff71d",
   "metadata": {},
   "source": [
    "**ComplementNB**\n",
    "\n",
    "- Байесовская модель, специально созданная для работы с текстовыми данными.\n",
    "- Эффективна для больших разреженных матриц, таких как TF-IDF.\n",
    "- Корректирует дисбаланс классов."
   ]
  },
  {
   "cell_type": "code",
   "execution_count": 23,
   "id": "03a30d72-a9fc-4090-813a-e912e71954aa",
   "metadata": {},
   "outputs": [
    {
     "name": "stdout",
     "output_type": "stream",
     "text": [
      "Fitting 5 folds for each of 6 candidates, totalling 30 fits\n",
      "Лучшие параметры ComplementNB: {'model_nb__alpha': 0.5, 'tfidf__ngram_range': (1, 2)}\n",
      "Лучшая F1-макро на кросс-валидации ComplementNB: 0.5490\n"
     ]
    }
   ],
   "source": [
    "# Pipeline\n",
    "pipeline_nb = Pipeline([\n",
    "    ('tfidf', TfidfVectorizer()),\n",
    "    ('model_nb', ComplementNB())\n",
    "])\n",
    "\n",
    "# Параметры для GridSearchCV\n",
    "param_nb = {\n",
    "    'model_nb__alpha': [0.1, 0.5, 1.0],\n",
    "    'tfidf__ngram_range': [(1,1), (1,2)]\n",
    "}\n",
    "\n",
    "# GridSearchCV\n",
    "grid_nb = GridSearchCV(\n",
    "    pipeline_nb,\n",
    "    param_grid=param_nb,\n",
    "    cv=5,\n",
    "    scoring='f1_macro',\n",
    "    n_jobs=-1,\n",
    "    verbose=1,\n",
    "    error_score='raise'\n",
    ")\n",
    "\n",
    "# Веса для каждого примера (чтобы учесть дисбаланс)\n",
    "sample_weights = compute_sample_weight(class_weight='balanced', y=y_train)\n",
    "\n",
    "# Обучение\n",
    "grid_nb.fit(X_train['text'], y_train, model_nb__sample_weight=sample_weights)\n",
    "\n",
    "# Сохранение результатов\n",
    "nb_best_params = grid_nb.best_params_\n",
    "nb_best_score = grid_nb.best_score_\n",
    "\n",
    "results.append({\n",
    "    'Model': 'ComplementNB',\n",
    "    'Best F1-macro (CV)': nb_best_score,\n",
    "    'Best Params': nb_best_params\n",
    "})\n",
    "\n",
    "print(f\"Лучшие параметры ComplementNB: {nb_best_params}\")\n",
    "print(f\"Лучшая F1-макро на кросс-валидации ComplementNB: {nb_best_score:.4f}\")"
   ]
  },
  {
   "cell_type": "markdown",
   "id": "1b150238-9119-45a8-ba23-9bacc98fcb43",
   "metadata": {},
   "source": [
    "### LinearSVC"
   ]
  },
  {
   "cell_type": "markdown",
   "id": "0feabf91-6d4c-439c-ac6a-91d2f476b0fd",
   "metadata": {},
   "source": [
    "**LinearSVC**\n",
    "\n",
    "- Хорошо справляется с высокоразмерными признаковыми пространствами, как у TF-IDF.\n",
    "- Хорошо масштабируется на большие объёмы текстовых данных."
   ]
  },
  {
   "cell_type": "code",
   "execution_count": 24,
   "id": "d65ca277-9789-4d5f-9792-04e09f1f3fc7",
   "metadata": {},
   "outputs": [
    {
     "name": "stdout",
     "output_type": "stream",
     "text": [
      "Fitting 5 folds for each of 16 candidates, totalling 80 fits\n"
     ]
    },
    {
     "name": "stderr",
     "output_type": "stream",
     "text": [
      "/Users/lena/opt/anaconda3/anaconda3/lib/python3.13/site-packages/sklearn/svm/_base.py:1249: ConvergenceWarning: Liblinear failed to converge, increase the number of iterations.\n",
      "  warnings.warn(\n",
      "/Users/lena/opt/anaconda3/anaconda3/lib/python3.13/site-packages/sklearn/svm/_base.py:1249: ConvergenceWarning: Liblinear failed to converge, increase the number of iterations.\n",
      "  warnings.warn(\n",
      "/Users/lena/opt/anaconda3/anaconda3/lib/python3.13/site-packages/sklearn/svm/_base.py:1249: ConvergenceWarning: Liblinear failed to converge, increase the number of iterations.\n",
      "  warnings.warn(\n",
      "/Users/lena/opt/anaconda3/anaconda3/lib/python3.13/site-packages/sklearn/svm/_base.py:1249: ConvergenceWarning: Liblinear failed to converge, increase the number of iterations.\n",
      "  warnings.warn(\n",
      "/Users/lena/opt/anaconda3/anaconda3/lib/python3.13/site-packages/sklearn/svm/_base.py:1249: ConvergenceWarning: Liblinear failed to converge, increase the number of iterations.\n",
      "  warnings.warn(\n",
      "/Users/lena/opt/anaconda3/anaconda3/lib/python3.13/site-packages/sklearn/svm/_base.py:1249: ConvergenceWarning: Liblinear failed to converge, increase the number of iterations.\n",
      "  warnings.warn(\n",
      "/Users/lena/opt/anaconda3/anaconda3/lib/python3.13/site-packages/sklearn/svm/_base.py:1249: ConvergenceWarning: Liblinear failed to converge, increase the number of iterations.\n",
      "  warnings.warn(\n",
      "/Users/lena/opt/anaconda3/anaconda3/lib/python3.13/site-packages/sklearn/svm/_base.py:1249: ConvergenceWarning: Liblinear failed to converge, increase the number of iterations.\n",
      "  warnings.warn(\n",
      "/Users/lena/opt/anaconda3/anaconda3/lib/python3.13/site-packages/sklearn/svm/_base.py:1249: ConvergenceWarning: Liblinear failed to converge, increase the number of iterations.\n",
      "  warnings.warn(\n",
      "/Users/lena/opt/anaconda3/anaconda3/lib/python3.13/site-packages/sklearn/svm/_base.py:1249: ConvergenceWarning: Liblinear failed to converge, increase the number of iterations.\n",
      "  warnings.warn(\n",
      "/Users/lena/opt/anaconda3/anaconda3/lib/python3.13/site-packages/sklearn/svm/_base.py:1249: ConvergenceWarning: Liblinear failed to converge, increase the number of iterations.\n",
      "  warnings.warn(\n",
      "/Users/lena/opt/anaconda3/anaconda3/lib/python3.13/site-packages/sklearn/svm/_base.py:1249: ConvergenceWarning: Liblinear failed to converge, increase the number of iterations.\n",
      "  warnings.warn(\n",
      "/Users/lena/opt/anaconda3/anaconda3/lib/python3.13/site-packages/sklearn/svm/_base.py:1249: ConvergenceWarning: Liblinear failed to converge, increase the number of iterations.\n",
      "  warnings.warn(\n",
      "/Users/lena/opt/anaconda3/anaconda3/lib/python3.13/site-packages/sklearn/svm/_base.py:1249: ConvergenceWarning: Liblinear failed to converge, increase the number of iterations.\n",
      "  warnings.warn(\n",
      "/Users/lena/opt/anaconda3/anaconda3/lib/python3.13/site-packages/sklearn/svm/_base.py:1249: ConvergenceWarning: Liblinear failed to converge, increase the number of iterations.\n",
      "  warnings.warn(\n",
      "/Users/lena/opt/anaconda3/anaconda3/lib/python3.13/site-packages/sklearn/svm/_base.py:1249: ConvergenceWarning: Liblinear failed to converge, increase the number of iterations.\n",
      "  warnings.warn(\n",
      "/Users/lena/opt/anaconda3/anaconda3/lib/python3.13/site-packages/sklearn/svm/_base.py:1249: ConvergenceWarning: Liblinear failed to converge, increase the number of iterations.\n",
      "  warnings.warn(\n",
      "/Users/lena/opt/anaconda3/anaconda3/lib/python3.13/site-packages/sklearn/svm/_base.py:1249: ConvergenceWarning: Liblinear failed to converge, increase the number of iterations.\n",
      "  warnings.warn(\n"
     ]
    },
    {
     "name": "stdout",
     "output_type": "stream",
     "text": [
      "Лучшие параметры LinearSVC+SMOTE: {'clf__C': 1, 'clf__loss': 'hinge', 'tfidf__ngram_range': (1, 2)}\n",
      "Лучшая F1-макро на кросс-валидации LinearSVC+SMOTE: 0.6185\n"
     ]
    }
   ],
   "source": [
    "# Pipeline\n",
    "svc_smote_pipeline = ImbPipeline([\n",
    "    ('tfidf', TfidfVectorizer()),\n",
    "    ('to_dense', FunctionTransformer(to_dense, accept_sparse=True)),\n",
    "    ('smote', SMOTE(random_state=42)),\n",
    "    ('clf', LinearSVC(random_state=42, max_iter=5000))\n",
    "])\n",
    "\n",
    "# Параметры для GridSearchCV\n",
    "svc_smote_param_grid = {\n",
    "    'clf__C': [0.01, 0.1, 1, 10],\n",
    "    'clf__loss': ['hinge', 'squared_hinge'],\n",
    "    'tfidf__ngram_range': [(1,1), (1,2)]\n",
    "}\n",
    "\n",
    "# GridSearchCV\n",
    "svc_smote_grid = GridSearchCV(\n",
    "    svc_smote_pipeline,\n",
    "    param_grid=svc_smote_param_grid,\n",
    "    cv=5,\n",
    "    scoring='f1_macro', \n",
    "    n_jobs=-1,\n",
    "    verbose=1,\n",
    "    error_score='raise'\n",
    ")\n",
    "\n",
    "# Обучение\n",
    "svc_smote_grid.fit(X_train['text'], y_train)\n",
    "\n",
    "# # Сохранение результатов\n",
    "svc_smote_best_params = svc_smote_grid.best_params_\n",
    "svc_smote_best_score = svc_smote_grid.best_score_\n",
    "\n",
    "results.append({\n",
    "    'Model': 'LinearSVC',\n",
    "    'Best F1-macro (CV)': svc_smote_best_score,\n",
    "    'Best Params': svc_smote_best_params\n",
    "})\n",
    "\n",
    "print(f\"Лучшие параметры LinearSVC+SMOTE: {svc_smote_best_params}\")\n",
    "print(f\"Лучшая F1-макро на кросс-валидации LinearSVC+SMOTE: {svc_smote_best_score:.4f}\")"
   ]
  },
  {
   "cell_type": "markdown",
   "id": "9b6e3205-0bb4-4449-b32a-76a86a994eff",
   "metadata": {},
   "source": [
    "### RidgeClassifier"
   ]
  },
  {
   "cell_type": "markdown",
   "id": "3596fc5c-815c-430c-809b-ff7251fa616c",
   "metadata": {},
   "source": [
    "**RidgeClassifier**\n",
    "\n",
    "- Линейная модель с регуляризацией, устойчивой к переобучению.\n",
    "- Быстро обучается, подходит для задач с разреженными признаками."
   ]
  },
  {
   "cell_type": "code",
   "execution_count": 25,
   "id": "eae8b799-2af1-4035-8e96-fa3d905ce6e6",
   "metadata": {},
   "outputs": [
    {
     "name": "stdout",
     "output_type": "stream",
     "text": [
      "Fitting 5 folds for each of 8 candidates, totalling 40 fits\n",
      "Лучшие параметры RidgeClassifier+SMOTE: {'clf__alpha': 1, 'tfidf__ngram_range': (1, 2)}\n",
      "Лучшая F1-макро на кросс-валидации RidgeClassifier+SMOTE: 0.6166\n"
     ]
    }
   ],
   "source": [
    "# Pipeline\n",
    "ridge_smote_pipeline = ImbPipeline([\n",
    "    ('tfidf', TfidfVectorizer()),\n",
    "    ('to_dense', FunctionTransformer(to_dense, accept_sparse=True)),\n",
    "    ('smote', SMOTE(random_state=42)),\n",
    "    ('clf', RidgeClassifier())\n",
    "])\n",
    "\n",
    "# Параметры для GridSearchCV\n",
    "ridge_smote_param_grid = {\n",
    "    'clf__alpha': [0.1, 1, 10, 100],\n",
    "    'tfidf__ngram_range': [(1,1), (1,2)]\n",
    "}\n",
    "\n",
    "# GridSearchCV\n",
    "ridge_smote_grid = GridSearchCV(\n",
    "    ridge_smote_pipeline,\n",
    "    param_grid=ridge_smote_param_grid,\n",
    "    cv=5,\n",
    "    scoring='f1_macro',\n",
    "    n_jobs=-1,\n",
    "    verbose=1,\n",
    "    error_score='raise'\n",
    ")\n",
    "\n",
    "# Обучение\n",
    "ridge_smote_grid.fit(X_train['text'], y_train)\n",
    "\n",
    "# Сохранение результатов\n",
    "ridge_smote_best_params = ridge_smote_grid.best_params_\n",
    "ridge_smote_best_score = ridge_smote_grid.best_score_\n",
    "\n",
    "results.append({\n",
    "    'Model': 'RidgeClassifier',\n",
    "    'Best F1-macro (CV)': ridge_smote_best_score,\n",
    "    'Best Params': ridge_smote_best_params\n",
    "})\n",
    "\n",
    "print(f\"Лучшие параметры RidgeClassifier+SMOTE: {ridge_smote_best_params}\")\n",
    "print(f\"Лучшая F1-макро на кросс-валидации RidgeClassifier+SMOTE: {ridge_smote_best_score:.4f}\")"
   ]
  },
  {
   "cell_type": "markdown",
   "id": "83bb1b64-c1b4-43f0-b619-c221202079e6",
   "metadata": {},
   "source": [
    "### CatBoostClassifier"
   ]
  },
  {
   "cell_type": "markdown",
   "id": "5afbd0df-ea5e-471d-ae48-426be31edd39",
   "metadata": {},
   "source": [
    "**CatBoostClassifier**\n",
    "\n",
    "- Хорошо справляется с дисбалансом классов через параметр class_weights.\n",
    "- Часто даёт лучшие показатели на сложных, несбалансированных наборах данных."
   ]
  },
  {
   "cell_type": "code",
   "execution_count": 26,
   "id": "3eddaadc-1f7e-4cfb-a317-7a3b5040fcfa",
   "metadata": {},
   "outputs": [
    {
     "name": "stdout",
     "output_type": "stream",
     "text": [
      "Class weights: [2.3151260504201683, 0.5009090909090909, 1.7492063492063492]\n",
      "Fitting 5 folds for each of 36 candidates, totalling 180 fits\n",
      "\n",
      "Лучшие параметры CatBoostClassifier: {'model_cb__depth': 4, 'model_cb__iterations': 200, 'model_cb__l2_leaf_reg': 1, 'model_cb__learning_rate': 0.1}\n",
      "Лучшая оценка F1-меры: 0.5743\n"
     ]
    }
   ],
   "source": [
    "# Рассчитаем веса для каждого класса\n",
    "classes = np.unique(y_train)\n",
    "class_weights = compute_class_weight(class_weight='balanced', classes=classes, y=y_train)\n",
    "class_weights = class_weights.tolist()\n",
    "print(\"Class weights:\", class_weights)\n",
    "\n",
    "# Pipeline с CatBoost\n",
    "pipeline_cb = Pipeline([\n",
    "    ('tfidf', TfidfVectorizer()),\n",
    "    ('model_cb', CatBoostClassifier(\n",
    "        random_state=42,\n",
    "        verbose=0,\n",
    "        class_weights=class_weights\n",
    "    ))\n",
    "])\n",
    "\n",
    "# Параметры для GridSearchCV\n",
    "param_cb = {\n",
    "    'model_cb__iterations': [100, 200],\n",
    "    'model_cb__learning_rate': [0.05, 0.1],\n",
    "    'model_cb__depth': [3, 4, 5],\n",
    "    'model_cb__l2_leaf_reg': [1, 3, 5]\n",
    "}\n",
    "\n",
    "# GridSearchCV\n",
    "grid_cb = GridSearchCV(\n",
    "    pipeline_cb,\n",
    "    param_grid=param_cb,\n",
    "    cv=5,\n",
    "    scoring='f1_macro',\n",
    "    n_jobs=-1,\n",
    "    verbose=1,\n",
    "    error_score='raise'\n",
    ")\n",
    "\n",
    "# Обучение\n",
    "grid_cb.fit(X_train['text'], y_train)\n",
    "\n",
    "# Сохранение результатов\n",
    "best_params_cb = grid_cb.best_params_\n",
    "best_score_cb = grid_cb.best_score_\n",
    "\n",
    "results.append({\n",
    "    'Model': 'CatBoostClassifier',\n",
    "    'Best F1-macro (CV)': best_score_cb,\n",
    "    'Best Params': best_params_cb\n",
    "})\n",
    "\n",
    "print(f'\\nЛучшие параметры CatBoostClassifier: {best_params_cb}')\n",
    "print(f'Лучшая оценка F1-меры: {best_score_cb:.4f}')"
   ]
  },
  {
   "cell_type": "code",
   "execution_count": 27,
   "id": "8dc2451c-c75e-4958-b2b4-3e056f67fd36",
   "metadata": {},
   "outputs": [
    {
     "data": {
      "text/html": [
       "<div>\n",
       "<style scoped>\n",
       "    .dataframe tbody tr th:only-of-type {\n",
       "        vertical-align: middle;\n",
       "    }\n",
       "\n",
       "    .dataframe tbody tr th {\n",
       "        vertical-align: top;\n",
       "    }\n",
       "\n",
       "    .dataframe thead th {\n",
       "        text-align: right;\n",
       "    }\n",
       "</style>\n",
       "<table border=\"1\" class=\"dataframe\">\n",
       "  <thead>\n",
       "    <tr style=\"text-align: right;\">\n",
       "      <th></th>\n",
       "      <th>Model</th>\n",
       "      <th>Best F1-macro (CV)</th>\n",
       "      <th>Best Params</th>\n",
       "    </tr>\n",
       "  </thead>\n",
       "  <tbody>\n",
       "    <tr>\n",
       "      <th>0</th>\n",
       "      <td>LogisticRegression</td>\n",
       "      <td>0.612399</td>\n",
       "      <td>{'clf__C': 1, 'clf__penalty': 'l1'}</td>\n",
       "    </tr>\n",
       "    <tr>\n",
       "      <th>1</th>\n",
       "      <td>ComplementNB</td>\n",
       "      <td>0.548979</td>\n",
       "      <td>{'model_nb__alpha': 0.5, 'tfidf__ngram_range': (1, 2)}</td>\n",
       "    </tr>\n",
       "    <tr>\n",
       "      <th>2</th>\n",
       "      <td>LinearSVC</td>\n",
       "      <td>0.618532</td>\n",
       "      <td>{'clf__C': 1, 'clf__loss': 'hinge', 'tfidf__ngram_range': (1, 2)}</td>\n",
       "    </tr>\n",
       "    <tr>\n",
       "      <th>3</th>\n",
       "      <td>RidgeClassifier</td>\n",
       "      <td>0.616625</td>\n",
       "      <td>{'clf__alpha': 1, 'tfidf__ngram_range': (1, 2)}</td>\n",
       "    </tr>\n",
       "    <tr>\n",
       "      <th>4</th>\n",
       "      <td>CatBoostClassifier</td>\n",
       "      <td>0.574324</td>\n",
       "      <td>{'model_cb__depth': 4, 'model_cb__iterations': 200, 'model_cb__l2_leaf_reg': 1, 'model_cb__learning_rate': 0.1}</td>\n",
       "    </tr>\n",
       "  </tbody>\n",
       "</table>\n",
       "</div>"
      ],
      "text/plain": [
       "                Model  Best F1-macro (CV)  \\\n",
       "0  LogisticRegression            0.612399   \n",
       "1        ComplementNB            0.548979   \n",
       "2           LinearSVC            0.618532   \n",
       "3     RidgeClassifier            0.616625   \n",
       "4  CatBoostClassifier            0.574324   \n",
       "\n",
       "                                                                                                       Best Params  \n",
       "0                                                                              {'clf__C': 1, 'clf__penalty': 'l1'}  \n",
       "1                                                           {'model_nb__alpha': 0.5, 'tfidf__ngram_range': (1, 2)}  \n",
       "2                                                {'clf__C': 1, 'clf__loss': 'hinge', 'tfidf__ngram_range': (1, 2)}  \n",
       "3                                                                  {'clf__alpha': 1, 'tfidf__ngram_range': (1, 2)}  \n",
       "4  {'model_cb__depth': 4, 'model_cb__iterations': 200, 'model_cb__l2_leaf_reg': 1, 'model_cb__learning_rate': 0.1}  "
      ]
     },
     "metadata": {},
     "output_type": "display_data"
    }
   ],
   "source": [
    "# Создаем DataFrame и выводим результаты обучения на тренировочной выборке\n",
    "pd.set_option('display.max_colwidth', None)\n",
    "\n",
    "results_data = pd.DataFrame(results)\n",
    "display(results_data)"
   ]
  },
  {
   "cell_type": "markdown",
   "id": "8fa81548-7644-4c7d-9c01-a26c8a13981e",
   "metadata": {},
   "source": [
    "Наилучшие результаты на тренировочной выборке показала модель LinearSVC (F1-macro = 0.6185). Именно её будем использовать для предсказания тональности комментариев на тестовой выборке."
   ]
  },
  {
   "cell_type": "markdown",
   "id": "17886a05-9c4f-48e7-9283-9d1c1fdf2fd9",
   "metadata": {},
   "source": [
    "### Вывод"
   ]
  },
  {
   "cell_type": "markdown",
   "id": "f729d416-1e3c-4dd1-ae18-9abd88895a8c",
   "metadata": {},
   "source": [
    "**На этапе обучения моделей были проверены 5 алгоритмов машинного обучения**:\n",
    "\n",
    "- Logistic Regression\n",
    "- ComplementNB\n",
    "- LinearSVC\n",
    "- RidgeClassifier\n",
    "- CatBoostClassifier\n",
    "\n",
    "Для каждой модели подобраны оптимальные гиперпараметры с использованием **GridSearchCV**. Качество оценивалось по метрике **F1-macro**, которая учитывает баланс между классами в многоклассовой задаче классификации тональности комментариев.\n",
    "\n",
    "Для работы с текстовыми комментариями и дисбалансом классов использовались два подхода: **ImbPipeline с SMOTE**, который синтетически увеличивает количество примеров в меньших классах после преобразования текста TF-IDF в плотный формат, и обычный **Pipeline с весами для классов**, где дисбаланс учитывался через веса для каждого примера (compute_sample_weight).\n",
    "\n",
    "Результаты показали, что наилучшие показатели на тренировочной выборке демонстрирует **LinearSVC** с **F1-macro = 0.6185**, немного уступают RidgeClassifier (0.6166) и LogisticRegression (0.6124). Модели на основе наивного Байеса (ComplementNB) и градиентного бустинга (CatBoostClassifier) показали относительно низкие значения F1-macro, что может быть связано с небольшим размером обучающей выборки.\n",
    "\n",
    "Таким образом, LinearSVC была выбрана для дальнейшего тестирования на отложенной выборке и предсказания тональности комментариев, так как она показала наилучший баланс между точностью и полнотой для всех классов."
   ]
  },
  {
   "cell_type": "markdown",
   "id": "724c5b75-0141-4308-8587-758c08fc618d",
   "metadata": {},
   "source": [
    "## Проверка модели на адекватность (DummyClassifier)"
   ]
  },
  {
   "cell_type": "markdown",
   "id": "677dbf2a-2b32-40ae-9aa9-12af203a51c3",
   "metadata": {},
   "source": [
    "Для проверки адекватности модели на тренировочных данных используем DummyClassifier, который предсказывает классы случайным образом или по частоте.\n",
    "\n",
    "Это позволяет убедиться, что наша обученная модель действительно извлекает полезную информацию из признаков и показывает улучшение по сравнению с простым предсказателем"
   ]
  },
  {
   "cell_type": "code",
   "execution_count": 28,
   "id": "c49ec550-0d91-4590-ab1c-2a038cc6534e",
   "metadata": {},
   "outputs": [
    {
     "name": "stdout",
     "output_type": "stream",
     "text": [
      "F1-macro DummyClassifier (train): 0.2664\n"
     ]
    }
   ],
   "source": [
    "# Dummy-модель: всегда предсказывает самый частый класс\n",
    "dummy = DummyClassifier(strategy=\"most_frequent\", random_state=42)\n",
    "dummy.fit(X_train['text'], y_train)\n",
    "\n",
    "# Предсказания на трейне\n",
    "y_dummy_pred = dummy.predict(X_train['text'])\n",
    "\n",
    "# Метрика F1-macro\n",
    "f1_dummy = f1_score(y_train, y_dummy_pred, average='macro')\n",
    "print(f\"F1-macro DummyClassifier (train): {f1_dummy:.4f}\")"
   ]
  },
  {
   "cell_type": "markdown",
   "id": "00258394-6424-481e-a62a-809c9e3f05e8",
   "metadata": {},
   "source": [
    "Сравнение с DummyClassifier показывает, что модель значительно превосходит случайное угадывание, что подтверждает её адекватность и способность выделять закономерности в данных."
   ]
  },
  {
   "cell_type": "markdown",
   "id": "67a49b36-004e-46a3-a300-816a6299ae8e",
   "metadata": {},
   "source": [
    "## Финальное предсказание на тестовой выборке"
   ]
  },
  {
   "cell_type": "code",
   "execution_count": 29,
   "id": "f444c69b-a0da-4c49-8950-33e2a8c9d697",
   "metadata": {},
   "outputs": [
    {
     "name": "stdout",
     "output_type": "stream",
     "text": [
      "F1-macro на тесте: 0.5816\n",
      "              precision    recall  f1-score   support\n",
      "\n",
      "    negative       0.46      0.38      0.42        60\n",
      "     neutral       0.80      0.79      0.79       275\n",
      "    positive       0.50      0.57      0.53        79\n",
      "\n",
      "    accuracy                           0.69       414\n",
      "   macro avg       0.59      0.58      0.58       414\n",
      "weighted avg       0.69      0.69      0.69       414\n",
      "\n"
     ]
    },
    {
     "data": {
      "image/png": "[encoded data removed]",
      "text/plain": [
       "<Figure size 640x480 with 2 Axes>"
      ]
     },
     "metadata": {},
     "output_type": "display_data"
    }
   ],
   "source": [
    "best_model = svc_smote_grid.best_estimator_\n",
    "tfidf = best_model.named_steps['tfidf']\n",
    "clf = best_model.named_steps['clf']\n",
    "\n",
    "X_test_vect = tfidf.transform(X_test['text'])\n",
    "y_pred = clf.predict(X_test_vect)\n",
    "\n",
    "print(f\"F1-macro на тесте: {f1_score(y_test, y_pred, average='macro'):.4f}\")\n",
    "print(classification_report(y_test, y_pred))\n",
    "\n",
    "cm = confusion_matrix(y_test, y_pred, labels=['negative','neutral','positive'])\n",
    "disp = ConfusionMatrixDisplay(confusion_matrix=cm, display_labels=['negative','neutral','positive'])\n",
    "disp.plot(cmap=plt.cm.Blues)\n",
    "plt.show()"
   ]
  },
  {
   "cell_type": "markdown",
   "id": "04e582c0-dd0a-404b-af8f-f55e6c53e6fe",
   "metadata": {},
   "source": [
    "Лучшая модель (LinearSVC) была протестирована на отложенной тестовой выборке, результаты оценены с помощью метрик F1-macro, precision-macro и recall-macro:\n",
    "\n",
    "- F1-macro: 0.58\n",
    "- Precision-macro: 0.59\n",
    "- Recall-macro: 0.58\n",
    "\n",
    "Из отчёта классификации и матрицы ошибок видно:\n",
    "\n",
    "- Модель лучше всего справляется с предсказанием нейтральных комментариев (precision = 0.79, recall = 0.79).\n",
    "- Для позитивных и негативных комментариев качество ниже: модель часто путает эти классы между собой и с нейтральным.\n",
    "\n",
    "Это объясняется дисбалансом классов: нейтральных комментариев значительно больше, чем позитивных и негативных, что затрудняет точное предсказание меньших классов.\n",
    "\n",
    "Итог: модель демонстрирует удовлетворительное качество предсказания для основной (нейтральной) категории, но требует дальнейшей доработки или подбора методов балансировки данных для улучшения распознавания менее представленных классов."
   ]
  },
  {
   "cell_type": "markdown",
   "id": "dbde11f7-9f24-4d31-9162-b30464f982cb",
   "metadata": {},
   "source": [
    "## График Precision-Recall Curve"
   ]
  },
  {
   "cell_type": "code",
   "execution_count": 30,
   "id": "9710a47b-13b8-4056-946d-7941d52d1f21",
   "metadata": {},
   "outputs": [
    {
     "data": {
      "image/png": "[encoded data removed]",
      "text/plain": [
       "<Figure size 800x600 with 1 Axes>"
      ]
     },
     "metadata": {},
     "output_type": "display_data"
    }
   ],
   "source": [
    "y_score = best_model.decision_function(X_test['text'].values)\n",
    "classes = best_model.classes_\n",
    "\n",
    "plt.figure(figsize=(8,6))\n",
    "\n",
    "for i, class_label in enumerate(classes):\n",
    "    precision, recall, _ = precision_recall_curve((y_test == class_label).astype(int), y_score[:, i])\n",
    "    ap = average_precision_score((y_test == class_label).astype(int), y_score[:, i])\n",
    "    plt.plot(recall, precision, label=f'{class_label} (AP={ap:.2f})')\n",
    "\n",
    "plt.xlabel('Recall')\n",
    "plt.ylabel('Precision')\n",
    "plt.title('PR-кривые для каждого класса')\n",
    "plt.legend()\n",
    "plt.grid(True)\n",
    "plt.show()"
   ]
  },
  {
   "cell_type": "markdown",
   "id": "6b21b0a7-2d45-4058-9112-aa10b240f82a",
   "metadata": {},
   "source": [
    "**negative**\n",
    "\n",
    "- При recall ≈0, precision≈1 модель выделяет очень немного «негативов», но делает это почти безошибочно.\n",
    "- При recall ≈0.2 precision держится на уровне 0.7 - модель всё ещё довольно точная.\n",
    "- После recall ≈0.4 точность резко падает - значит, модель начинает \"захватывать\" много лишнего и путает негатив с другими классами.\n",
    "\n",
    "Модель хорошо выделяет самые «очевидные» негативные комментарии, но при расширении выборки точность быстро падает.\n",
    "\n",
    "**neutral**\n",
    "\n",
    "- При recall до ≈0.6 precision остаётся высоким ≈1-0.7. Это значит, что модель уверенно выделяет нейтральные комментарии.\n",
    "- При recall ≈0.6 начинается падение. Чем больше модель старается захватить все нейтральные комментарии, тем больше путает с другими классами.\n",
    "\n",
    "Нейтральные комментарии для модели самые лёгкие, она классифицирует их лучше всего.\n",
    "\n",
    "**positive**\n",
    "\n",
    "- При низком recall ≈0.2 precision падает - модель слабо выделяет позитив.\n",
    "- Кривая идёт вниз (мало объектов в выборке)\n",
    "\n",
    "Определение позитивных комментариев для модели — самый трудный класс. В тестовой выборке мало данных и/или фразы часто похожи на нейтральные.\n",
    "\n",
    "**Average Precision (AP)** в легенде — «площадь под кривой» (чем выше, тем лучше).\n",
    "У negative и positive классов AP низкий, это сигнал, чтобы:\n",
    "\n",
    "- добавить больше обучающих данных этого класса\n",
    "- доработать признаки (например, добавить новые признаки, извлечь признаки из текста)."
   ]
  },
  {
   "cell_type": "markdown",
   "id": "0385a1f9-58e6-4446-b639-13c9662d4d69",
   "metadata": {},
   "source": [
    "## Проверка важности признаков (Feature Importances)"
   ]
  },
  {
   "cell_type": "markdown",
   "id": "89a05d98-7cd1-4529-b65c-b5c5e7e8ba72",
   "metadata": {},
   "source": [
    "Проверим, насколько адекватно выбранная модель различает тональности.\n",
    "\n",
    "Анализ feature importances полезен для:\n",
    "\n",
    "- интерпретации работы модели (какие слова сильнее всего влияют на классификацию);\n",
    "\n",
    "- ручной проверки — нет ли случайных или «шумных» слов среди ключевых признаков;\n",
    "\n",
    "- дальнейшей доработки словаря (например, объединение синонимов или очистка неинформативных слов)."
   ]
  },
  {
   "cell_type": "code",
   "execution_count": 31,
   "id": "3afce8ee-3022-47df-8445-37ffb7d864de",
   "metadata": {},
   "outputs": [
    {
     "name": "stdout",
     "output_type": "stream",
     "text": [
      "\n",
      "Топ-10 слов для класса 'negative':\n",
      "жаль: 2.428\n",
      "рассрочка: 2.250\n",
      "дорого: 2.113\n",
      "отправить: 2.034\n",
      "хотеть взять: 1.803\n",
      "странный: 1.740\n",
      "уродство: 1.719\n",
      "отписка: 1.719\n",
      "мде: 1.719\n",
      "злой: 1.719\n",
      "\n",
      "Топ-10 слов для класса 'neutral':\n",
      "карта: 1.857\n",
      "подсказать: 1.629\n",
      "планироваться: 1.280\n",
      "коробка: 1.274\n",
      "смысл: 1.254\n",
      "проводить: 1.236\n",
      "ждать коробочка: 1.207\n",
      "мочь: 1.178\n",
      "новый: 1.165\n",
      "вопрос: 1.142\n",
      "\n",
      "Топ-10 слов для класса 'positive':\n",
      "спасибо: 3.234\n",
      "хороший: 2.473\n",
      "шикарный: 2.088\n",
      "очень: 2.069\n",
      "отличный: 1.941\n",
      "любимый: 1.896\n",
      "ура: 1.865\n",
      "классный: 1.798\n",
      "шура: 1.755\n",
      "крутой: 1.739\n"
     ]
    }
   ],
   "source": [
    "# Берём лучшую модель из GridSearchCV\n",
    "best_model = svc_smote_grid.best_estimator_\n",
    "\n",
    "# Извлекаем признаки и коэффициенты\n",
    "feature_names = best_model.named_steps['tfidf'].get_feature_names_out()\n",
    "coef = best_model.named_steps['clf'].coef_\n",
    "\n",
    "# Топ-10 слов для каждого класса\n",
    "for i, class_label in enumerate(best_model.classes_):\n",
    "    top10_idx = np.argsort(coef[i])[-10:][::-1]\n",
    "    top10_words = feature_names[top10_idx]\n",
    "    top10_weights = coef[i][top10_idx]\n",
    "    print(f\"\\nТоп-10 слов для класса '{class_label}':\")\n",
    "    for word, weight in zip(top10_words, top10_weights):\n",
    "        print(f\"{word}: {weight:.3f}\")"
   ]
  },
  {
   "cell_type": "markdown",
   "id": "89ce4ee4-060b-46c5-bf59-5e3ed15e4599",
   "metadata": {},
   "source": [
    "Модель адекватно выделяет ключевые маркеры классов: негативные - жалобы, нейтральные - вопросы, позитивные - благодарность/похвала.\n",
    "\n",
    "Набор топ-слов показывает, что модель учится не просто случайным корреляциям, а реально смысловым сигналам, соответствующим человеческому восприятию."
   ]
  },
  {
   "cell_type": "markdown",
   "id": "676ecd69-0a30-4415-bbe9-342835fbd602",
   "metadata": {},
   "source": [
    "## Проверка модели на новых данных"
   ]
  },
  {
   "cell_type": "code",
   "execution_count": 32,
   "id": "f600544e-707b-4cb3-bdbc-91229a82ccfb",
   "metadata": {},
   "outputs": [],
   "source": [
    "# Сохраняем TF-IDF и классификатор отдельно\n",
    "with open('best_model_tfidf.pkl', 'wb') as f:\n",
    "    pickle.dump(tfidf, f)\n",
    "with open('best_model_clf.pkl', 'wb') as f:\n",
    "    pickle.dump(clf, f)"
   ]
  },
  {
   "cell_type": "code",
   "execution_count": 33,
   "id": "6bd301c6-f63d-4373-9200-bbc5f9264b03",
   "metadata": {},
   "outputs": [],
   "source": [
    "# Загружаем отдельно TF-IDF и классификатор\n",
    "with open(\"best_model_tfidf.pkl\", \"rb\") as f:\n",
    "    tfidf = pickle.load(f)\n",
    "\n",
    "with open(\"best_model_clf.pkl\", \"rb\") as f:\n",
    "    clf = pickle.load(f)"
   ]
  },
  {
   "cell_type": "code",
   "execution_count": 34,
   "id": "f7f1a26c-c6b4-41f8-951e-836b2e690da4",
   "metadata": {},
   "outputs": [
    {
     "name": "stdout",
     "output_type": "stream",
     "text": [
      "Predicted class: ['positive']\n"
     ]
    }
   ],
   "source": [
    "# Использование модели на новых данных\n",
    "new_data = pd.DataFrame(\n",
    "    {'text': ['спасибо! все шикарно']}\n",
    ")\n",
    "\n",
    "X_new_vect = tfidf.transform(new_data['text'])\n",
    "predictions = clf.predict(X_new_vect)\n",
    "\n",
    "print(\"Predicted class:\", predictions)"
   ]
  },
  {
   "cell_type": "markdown",
   "id": "80147957-96eb-4bb5-a919-125f804a66ea",
   "metadata": {},
   "source": [
    "## Тест API"
   ]
  },
  {
   "cell_type": "code",
   "execution_count": 35,
   "id": "6c9affa2-c0a9-4591-a27f-94db70c592e5",
   "metadata": {},
   "outputs": [
    {
     "name": "stdout",
     "output_type": "stream",
     "text": [
      "{'predictions': ['positive']}\n"
     ]
    }
   ],
   "source": [
    "app = FastAPI()\n",
    "\n",
    "class Texts(BaseModel):\n",
    "    text: list[str]\n",
    "\n",
    "@app.post(\"/predict_model\")\n",
    "def predict_model(texts: Texts):\n",
    "    # Преобразуем тексты в векторы\n",
    "    X_vect = tfidf.transform(texts.text)\n",
    "    # Предсказания\n",
    "    preds = clf.predict(X_vect)\n",
    "    return {\"predictions\": preds.tolist()}\n",
    "\n",
    "data = {\"text\": [\"Ура, спасибо вам, все шикарно!\"]}\n",
    "prediction = requests.post(\"http://127.0.0.1:8000/predict_model\", json=data).json()\n",
    "print(prediction)"
   ]
  },
  {
   "cell_type": "markdown",
   "id": "5c12b181-fbf9-4174-9fd9-c26688d62654",
   "metadata": {},
   "source": [
    "## Вывод"
   ]
  },
  {
   "cell_type": "markdown",
   "id": "b5439dd0-d38e-4927-a5a1-b9f1ff22dc8e",
   "metadata": {},
   "source": [
    "В рамках проекта была решена **задача многоклассовой классификации текстовых комментариев** пользователей на три категории:\n",
    "- neutral\n",
    "- positive\n",
    "- negative\n",
    "\n",
    "**В процессе исследования**:\n",
    "\n",
    "- Сформирован датасет комментариев, собранных с помощью Python-парсера и VK API из публичной группы;\n",
    "- Данные размечены вручную\n",
    "- Проведена предобработка данных (очистка текста, лемматизация, учёт частей речи).\n",
    "- Выявлен дисбаланс классов (большинство комментариев — нейтральные, меньше всего — негативные).\n",
    "- Преобразованы данные с помощью TF-IDF и разделены на тренировочную и тестовую выборки.\n",
    "- Для борьбы с дисбалансом применялись два подхода:\n",
    "    \n",
    "    - SMOTE (oversampling) в ImbPipeline.\n",
    "    - Взвешивание классов через compute_sample_weight\n",
    "  \n",
    "- Обучены и протестированы модели:\n",
    "    \n",
    "    - Logistic Regression\n",
    "    - ComplementNB\n",
    "    - LinearSVC\n",
    "    - RidgeClassifier\n",
    "    - CatBoostClassifier\n",
    "   \n",
    "- Подбор гиперпараметров проводился с помощью GridSearchCV, оценка качества — по метрике F1-macro.\n",
    "\n",
    "**Результаты моделирования**:\n",
    "\n",
    "- Лучшая модель — LinearSVC, показала на кросс-валидации F1-macro ≈ 0.62.\n",
    "- Метрики на тестовой выборке:\n",
    "\n",
    "    - Accuracy: 0.69\n",
    "    - F1-macro: 0.58\n",
    "    - Precision-macro: 0.59\n",
    "    - Recall-macro: 0.58\n",
    "\n",
    "**По классам**:\n",
    "\n",
    "- Neutral — предсказывается лучше всего (F1 ≈ 0.79, precision и recall высокие и сбалансированные).\n",
    "\n",
    "- Positive — среднее качество (F1 ≈ 0.53), модель путает позитив с нейтральными сообщениями.\n",
    "\n",
    "- Negative — слабое качество (F1 ≈ 0.42), модель путает негатив с нейтральными сообщениями.\n",
    "\n",
    "**PR-кривые**:\n",
    "\n",
    "- Показали, что модель хорошо находит «очевидные» примеры классов, но при расширении recall резко падает precision, особенно для негативных и позитивных сообщений.\n",
    "\n",
    "**Анализ признаков (топ-слова)**:\n",
    "\n",
    "- Подтвердил, что модель улавливает характерные слова для каждого класса («спасибо», «хороший» для позитивного; «жаль», «дорого» для негативного; «подсказать», «вопрос» для нейтрального).\n",
    "\n",
    "Основная проблема связана с дисбалансом классов и схожестью формулировок позитивных/негативных сообщений с нейтральными.\n",
    "\n",
    "Разработанная модель удовлетворительно классифицирует комментарии, особенно в основной категории (neutral), что подтверждается высоким F1 для этого класса. Однако качество распознавания positive и особенно negative комментариев остаётся недостаточным.\n",
    "\n",
    "**Для улучшения результатов рекомендуется**:\n",
    "\n",
    "- Собрать больше данных для позитивных и негативных классов\n",
    "- Попробовать другие методы балансировки\n",
    "- Добавить новые признаки\n",
    "- Рассмотреть глубокие модели (например, BERT), которые лучше учитывают контекст и могут повысить качество на малых классах.\n",
    "\n",
    "Таким образом, модель можно использовать как базовое решение для автоматической классификации комментариев, но для продакшена и более точного выделения позитивных/негативных сообщений потребуется доработка."
   ]
  },
  {
   "cell_type": "code",
   "execution_count": null,
   "id": "17f13861-c125-4979-8348-a57c1f0e03ea",
   "metadata": {},
   "outputs": [],
   "source": []
  }
 ],
 "metadata": {
  "kernelspec": {
   "display_name": "Python [conda env:base] *",
   "language": "python",
   "name": "conda-base-py"
  },
  "language_info": {
   "codemirror_mode": {
    "name": "ipython",
    "version": 3
   },
   "file_extension": ".py",
   "mimetype": "text/x-python",
   "name": "python",
   "nbconvert_exporter": "python",
   "pygments_lexer": "ipython3",
   "version": "3.13.5"
  }
 },
 "nbformat": 4,
 "nbformat_minor": 5
}
